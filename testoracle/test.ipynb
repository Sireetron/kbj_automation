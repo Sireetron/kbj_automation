{
 "cells": [
  {
   "cell_type": "code",
   "execution_count": 2,
   "id": "deea2a39",
   "metadata": {},
   "outputs": [],
   "source": [
    "import pandas as pd\n",
    "# from utils import select_min_pay, read_input_file, export_file\n",
    "import glob\n",
    "import numpy as np\n",
    "import pandas as pd\n",
    "import glob\n",
    "import logging\n",
    "import win32com.client as win32\n",
    "import os\n",
    "import jaydebeapi\n",
    "import sys\n",
    "sys.path.append(os.path.abspath('../'))\n",
    "import const\n",
    "import const"
   ]
  },
  {
   "cell_type": "code",
   "execution_count": 4,
   "id": "c0b79c09",
   "metadata": {},
   "outputs": [],
   "source": [
    "def clean_column_names(df):\n",
    "    df.columns = df.columns.str.lower()  \n",
    "    df.columns = df.columns.str.replace(r'\\.', '', regex=True)\n",
    "    df.columns = df.columns.str.replace(r' ', '_', regex=True)  \n",
    "    df.columns = df.columns.str.replace('customer_id_no|customer_no|customer_id|national_id', 'customer_no', regex=True) \n",
    "    df.columns = df.columns.str.replace(r'loan_no', 'contract_no', regex=True)\n",
    "    df.columns = df.columns.str.replace(r'mobile.*', 'mobile_no', regex=True)\n",
    "    df.columns = df.columns.str.replace(r'customer_name/surname\\(thai\\)', 'customer_name', regex=True)  \n",
    "    return df\n"
   ]
  },
  {
   "cell_type": "code",
   "execution_count": 8,
   "id": "b2d3b3d3",
   "metadata": {},
   "outputs": [],
   "source": [
    "input_folder = \"./input/assign_input/\""
   ]
  },
  {
   "cell_type": "code",
   "execution_count": 6,
   "id": "cf6e11cb",
   "metadata": {},
   "outputs": [],
   "source": [
    "files = glob.glob(os.path.join(input_folder, \"*.xlsx\")) + glob.glob(os.path.join(input_folder, \"*.csv\"))\n"
   ]
  },
  {
   "cell_type": "code",
   "execution_count": 9,
   "id": "3e201863",
   "metadata": {},
   "outputs": [
    {
     "data": {
      "text/plain": [
       "[]"
      ]
     },
     "execution_count": 9,
     "metadata": {},
     "output_type": "execute_result"
    }
   ],
   "source": [
    "files"
   ]
  },
  {
   "cell_type": "code",
   "execution_count": 7,
   "id": "fcfed681",
   "metadata": {},
   "outputs": [
    {
     "name": "stdout",
     "output_type": "stream",
     "text": [
      "No file found in the folder.\n"
     ]
    }
   ],
   "source": [
    "if files:\n",
    "    file_path = files[0]\n",
    "    if file_path.endswith(\".xlsx\"):\n",
    "        assign = pd.read_excel(file_path,sheet_name='Data', dtype={'MobileNo': str})\n",
    "        # print('assignassignassign',assign)\n",
    "    elif file_path.endswith(\".csv\"):\n",
    "        assign = pd.read_csv(file_path,sheet_name='Data', dtype={'MobileNo': str})   \n",
    "else:\n",
    "    print(\"No file found in the folder.\")"
   ]
  },
  {
   "cell_type": "code",
   "execution_count": null,
   "id": "a718818c",
   "metadata": {},
   "outputs": [],
   "source": []
  }
 ],
 "metadata": {
  "kernelspec": {
   "display_name": ".venv",
   "language": "python",
   "name": "python3"
  },
  "language_info": {
   "codemirror_mode": {
    "name": "ipython",
    "version": 3
   },
   "file_extension": ".py",
   "mimetype": "text/x-python",
   "name": "python",
   "nbconvert_exporter": "python",
   "pygments_lexer": "ipython3",
   "version": "3.11.9"
  }
 },
 "nbformat": 4,
 "nbformat_minor": 5
}
