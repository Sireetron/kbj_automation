{
 "cells": [
  {
   "cell_type": "code",
   "execution_count": 1,
   "id": "cfa3f4d4",
   "metadata": {},
   "outputs": [],
   "source": [
    "import jaydebeapi\n",
    "import jpype\n",
    "import pandas as pd\n",
    "import os"
   ]
  },
  {
   "cell_type": "code",
   "execution_count": 2,
   "id": "2739ed44",
   "metadata": {},
   "outputs": [],
   "source": [
    "import sqlalchemy"
   ]
  },
  {
   "cell_type": "code",
   "execution_count": 3,
   "id": "975bf101",
   "metadata": {},
   "outputs": [],
   "source": [
    "from postgres_connector import PostgresConnector"
   ]
  },
  {
   "cell_type": "code",
   "execution_count": 4,
   "id": "9c61c5d0",
   "metadata": {},
   "outputs": [],
   "source": [
    "engine = PostgresConnector().get_engine()"
   ]
  },
  {
   "cell_type": "code",
   "execution_count": 5,
   "id": "1515be9c",
   "metadata": {},
   "outputs": [
    {
     "name": "stdout",
     "output_type": "stream",
     "text": [
      "   ?column?\n",
      "0         1\n"
     ]
    }
   ],
   "source": [
    "with engine.connect() as conn:\n",
    "    query = \"SELECT 1 \"\n",
    "    df = pd.read_sql(query, conn)\n",
    "    print(df)\n",
    "    # pollutants = pollutants_df['key'].tolist()"
   ]
  },
  {
   "cell_type": "code",
   "execution_count": null,
   "id": "652c6922",
   "metadata": {},
   "outputs": [],
   "source": []
  }
 ],
 "metadata": {
  "kernelspec": {
   "display_name": ".venv",
   "language": "python",
   "name": "python3"
  },
  "language_info": {
   "codemirror_mode": {
    "name": "ipython",
    "version": 3
   },
   "file_extension": ".py",
   "mimetype": "text/x-python",
   "name": "python",
   "nbconvert_exporter": "python",
   "pygments_lexer": "ipython3",
   "version": "3.11.9"
  }
 },
 "nbformat": 4,
 "nbformat_minor": 5
}
