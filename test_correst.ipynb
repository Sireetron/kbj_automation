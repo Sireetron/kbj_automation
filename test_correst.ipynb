{
 "cells": [
  {
   "cell_type": "code",
   "execution_count": 1,
   "metadata": {},
   "outputs": [],
   "source": [
    "import pandas as pd"
   ]
  },
  {
   "cell_type": "code",
   "execution_count": 58,
   "metadata": {},
   "outputs": [
    {
     "name": "stderr",
     "output_type": "stream",
     "text": [
      "C:\\Users\\Sireetron\\AppData\\Local\\Temp\\ipykernel_32980\\2552805503.py:1: DtypeWarning: Columns (13,15) have mixed types. Specify dtype option on import or set low_memory=False.\n",
      "  correct = pd.read_csv('./ASSIGN_OA_SF_OD1OD2_02032568 1.csv')\n"
     ]
    }
   ],
   "source": [
    "correct = pd.read_csv('./ASSIGN_OA_SF_OD1OD2_02032568 1.csv')"
   ]
  },
  {
   "cell_type": "code",
   "execution_count": 34,
   "metadata": {},
   "outputs": [
    {
     "data": {
      "text/plain": [
       "37"
      ]
     },
     "execution_count": 34,
     "metadata": {},
     "output_type": "execute_result"
    }
   ],
   "source": [
    "correct.shape[1]"
   ]
  },
  {
   "cell_type": "code",
   "execution_count": 59,
   "metadata": {},
   "outputs": [
    {
     "data": {
      "text/plain": [
       "base_date                        object\n",
       "customer_no                       int64\n",
       "principal_balance               float64\n",
       "overdue_days                      int64\n",
       "overdue_months_division_code     object\n",
       "sales_product_code               object\n",
       "loan_no                           int64\n",
       "customer_name                    object\n",
       "customer_id_no2                   int64\n",
       "mobile_no                         int64\n",
       "address_home                     object\n",
       "post_code                         int64\n",
       "phone_no_home                    object\n",
       "address_office                   object\n",
       "post_code2                      float64\n",
       "biz_phone_no                     object\n",
       "address__place_of_residence      object\n",
       "post_code3                      float64\n",
       "phone_no                         object\n",
       "delivery_address                 object\n",
       "post_code4                        int64\n",
       "delivery_phone_no                object\n",
       "outstanding_balance             float64\n",
       "loan_date                        object\n",
       "installment_count                 int64\n",
       "loan_amt                        float64\n",
       "overdue_start_date               object\n",
       "billing_interest_amt            float64\n",
       "overdue_int                     float64\n",
       "collection_fee                  float64\n",
       "dob                              object\n",
       "email_address                    object\n",
       "occupation                       object\n",
       "ever_never                       object\n",
       "import_period                     int64\n",
       "company_id                        int64\n",
       "user_id                           int64\n",
       "dtype: object"
      ]
     },
     "execution_count": 59,
     "metadata": {},
     "output_type": "execute_result"
    }
   ],
   "source": [
    "correct.dtypes"
   ]
  },
  {
   "cell_type": "code",
   "execution_count": 44,
   "metadata": {},
   "outputs": [],
   "source": [
    "lit = pd.read_csv('./ASSIGN_WO_Litigation_14032568.csv')"
   ]
  },
  {
   "cell_type": "code",
   "execution_count": 46,
   "metadata": {},
   "outputs": [
    {
     "data": {
      "text/html": [
       "<div>\n",
       "<style scoped>\n",
       "    .dataframe tbody tr th:only-of-type {\n",
       "        vertical-align: middle;\n",
       "    }\n",
       "\n",
       "    .dataframe tbody tr th {\n",
       "        vertical-align: top;\n",
       "    }\n",
       "\n",
       "    .dataframe thead th {\n",
       "        text-align: right;\n",
       "    }\n",
       "</style>\n",
       "<table border=\"1\" class=\"dataframe\">\n",
       "  <thead>\n",
       "    <tr style=\"text-align: right;\">\n",
       "      <th></th>\n",
       "      <th>base_date</th>\n",
       "      <th>customer_no</th>\n",
       "      <th>principal_balance</th>\n",
       "      <th>overdue_days</th>\n",
       "      <th>overdue_months_division_code</th>\n",
       "      <th>sales_product_code</th>\n",
       "      <th>loan_no</th>\n",
       "      <th>customer_name</th>\n",
       "      <th>customer_id_no2</th>\n",
       "      <th>mobile_no</th>\n",
       "      <th>...</th>\n",
       "      <th>billing_interest_amt</th>\n",
       "      <th>overdue_int</th>\n",
       "      <th>collection_fee</th>\n",
       "      <th>dob</th>\n",
       "      <th>email_address</th>\n",
       "      <th>occupation</th>\n",
       "      <th>ever_never</th>\n",
       "      <th>import_period</th>\n",
       "      <th>company_id</th>\n",
       "      <th>user_id</th>\n",
       "    </tr>\n",
       "  </thead>\n",
       "  <tbody>\n",
       "    <tr>\n",
       "      <th>0</th>\n",
       "      <td>02/03/2568</td>\n",
       "      <td>12160025815</td>\n",
       "      <td>1758.70</td>\n",
       "      <td>1705</td>\n",
       "      <td>Write-Off</td>\n",
       "      <td>A301:RL</td>\n",
       "      <td>8002059091119217</td>\n",
       "      <td>พลอยนภัส วัฒน์ธนาชัยกุล</td>\n",
       "      <td>3.240200e+12</td>\n",
       "      <td>982849995.0</td>\n",
       "      <td>...</td>\n",
       "      <td>0</td>\n",
       "      <td>0</td>\n",
       "      <td>0</td>\n",
       "      <td>25-07-2526</td>\n",
       "      <td>Ploynapat.watthanachaikul@gmail.com</td>\n",
       "      <td>OFFICE WORK</td>\n",
       "      <td>N</td>\n",
       "      <td>1</td>\n",
       "      <td>2</td>\n",
       "      <td>151</td>\n",
       "    </tr>\n",
       "    <tr>\n",
       "      <th>1</th>\n",
       "      <td>02/03/2568</td>\n",
       "      <td>12170059706</td>\n",
       "      <td>1195.80</td>\n",
       "      <td>2227</td>\n",
       "      <td>Write-Off</td>\n",
       "      <td>A301:RL</td>\n",
       "      <td>5000160071009465</td>\n",
       "      <td>วิภา นวลจันทร์</td>\n",
       "      <td>3.901101e+12</td>\n",
       "      <td>936726641.0</td>\n",
       "      <td>...</td>\n",
       "      <td>0</td>\n",
       "      <td>0</td>\n",
       "      <td>0</td>\n",
       "      <td>08-03-2519</td>\n",
       "      <td>NaN</td>\n",
       "      <td>GENERAL LABOR</td>\n",
       "      <td>N</td>\n",
       "      <td>1</td>\n",
       "      <td>2</td>\n",
       "      <td>151</td>\n",
       "    </tr>\n",
       "    <tr>\n",
       "      <th>2</th>\n",
       "      <td>02/03/2568</td>\n",
       "      <td>12170055539</td>\n",
       "      <td>14651.47</td>\n",
       "      <td>1693</td>\n",
       "      <td>Write-Off</td>\n",
       "      <td>A301:RL</td>\n",
       "      <td>5000360121072091</td>\n",
       "      <td>กฤษฎา ขำคง</td>\n",
       "      <td>3.530800e+12</td>\n",
       "      <td>870251382.0</td>\n",
       "      <td>...</td>\n",
       "      <td>0</td>\n",
       "      <td>0</td>\n",
       "      <td>0</td>\n",
       "      <td>14-02-2517</td>\n",
       "      <td>NaN</td>\n",
       "      <td>GENERAL LABOR</td>\n",
       "      <td>N</td>\n",
       "      <td>1</td>\n",
       "      <td>2</td>\n",
       "      <td>151</td>\n",
       "    </tr>\n",
       "    <tr>\n",
       "      <th>3</th>\n",
       "      <td>02/03/2568</td>\n",
       "      <td>12170009930</td>\n",
       "      <td>18467.50</td>\n",
       "      <td>1281</td>\n",
       "      <td>Write-Off</td>\n",
       "      <td>A301:RL</td>\n",
       "      <td>5000160061055928</td>\n",
       "      <td>พชระ สิทธิมงคล</td>\n",
       "      <td>1.190100e+12</td>\n",
       "      <td>834364588.0</td>\n",
       "      <td>...</td>\n",
       "      <td>0</td>\n",
       "      <td>0</td>\n",
       "      <td>0</td>\n",
       "      <td>24-12-2527</td>\n",
       "      <td>NaN</td>\n",
       "      <td>GENERAL LABOR</td>\n",
       "      <td>N</td>\n",
       "      <td>1</td>\n",
       "      <td>2</td>\n",
       "      <td>151</td>\n",
       "    </tr>\n",
       "    <tr>\n",
       "      <th>4</th>\n",
       "      <td>02/03/2568</td>\n",
       "      <td>12170048579</td>\n",
       "      <td>26952.96</td>\n",
       "      <td>0</td>\n",
       "      <td>Write-Off</td>\n",
       "      <td>A301:RL</td>\n",
       "      <td>5000160081092314</td>\n",
       "      <td>จินดา โพธิ์แก้ว</td>\n",
       "      <td>3.240300e+12</td>\n",
       "      <td>908866079.0</td>\n",
       "      <td>...</td>\n",
       "      <td>0</td>\n",
       "      <td>0</td>\n",
       "      <td>0</td>\n",
       "      <td>26-08-2513</td>\n",
       "      <td>NaN</td>\n",
       "      <td>PRODUCTION LINE LABOR</td>\n",
       "      <td>N</td>\n",
       "      <td>1</td>\n",
       "      <td>2</td>\n",
       "      <td>151</td>\n",
       "    </tr>\n",
       "    <tr>\n",
       "      <th>...</th>\n",
       "      <td>...</td>\n",
       "      <td>...</td>\n",
       "      <td>...</td>\n",
       "      <td>...</td>\n",
       "      <td>...</td>\n",
       "      <td>...</td>\n",
       "      <td>...</td>\n",
       "      <td>...</td>\n",
       "      <td>...</td>\n",
       "      <td>...</td>\n",
       "      <td>...</td>\n",
       "      <td>...</td>\n",
       "      <td>...</td>\n",
       "      <td>...</td>\n",
       "      <td>...</td>\n",
       "      <td>...</td>\n",
       "      <td>...</td>\n",
       "      <td>...</td>\n",
       "      <td>...</td>\n",
       "      <td>...</td>\n",
       "      <td>...</td>\n",
       "    </tr>\n",
       "    <tr>\n",
       "      <th>1710</th>\n",
       "      <td>02/03/2568</td>\n",
       "      <td>12170016326</td>\n",
       "      <td>4279.35</td>\n",
       "      <td>0</td>\n",
       "      <td>NM</td>\n",
       "      <td>A301:RL</td>\n",
       "      <td>5000360061038665</td>\n",
       "      <td>วีณา บุญมี</td>\n",
       "      <td>NaN</td>\n",
       "      <td>NaN</td>\n",
       "      <td>...</td>\n",
       "      <td>0</td>\n",
       "      <td>0</td>\n",
       "      <td>0</td>\n",
       "      <td>NaN</td>\n",
       "      <td>NaN</td>\n",
       "      <td>NaN</td>\n",
       "      <td>N</td>\n",
       "      <td>1</td>\n",
       "      <td>22</td>\n",
       "      <td>700</td>\n",
       "    </tr>\n",
       "    <tr>\n",
       "      <th>1711</th>\n",
       "      <td>02/03/2568</td>\n",
       "      <td>12160007357</td>\n",
       "      <td>2247.85</td>\n",
       "      <td>0</td>\n",
       "      <td>NM</td>\n",
       "      <td>A301:RL</td>\n",
       "      <td>5000359091072746</td>\n",
       "      <td>สุภาภรณ์ ตันติเวช</td>\n",
       "      <td>NaN</td>\n",
       "      <td>NaN</td>\n",
       "      <td>...</td>\n",
       "      <td>0</td>\n",
       "      <td>0</td>\n",
       "      <td>0</td>\n",
       "      <td>NaN</td>\n",
       "      <td>NaN</td>\n",
       "      <td>NaN</td>\n",
       "      <td>N</td>\n",
       "      <td>1</td>\n",
       "      <td>24</td>\n",
       "      <td>702</td>\n",
       "    </tr>\n",
       "    <tr>\n",
       "      <th>1712</th>\n",
       "      <td>02/03/2568</td>\n",
       "      <td>12180031823</td>\n",
       "      <td>2122.15</td>\n",
       "      <td>0</td>\n",
       "      <td>NM</td>\n",
       "      <td>A301:RL</td>\n",
       "      <td>5000161031079048</td>\n",
       "      <td>กรรณิการ์ โม้ลา</td>\n",
       "      <td>NaN</td>\n",
       "      <td>NaN</td>\n",
       "      <td>...</td>\n",
       "      <td>0</td>\n",
       "      <td>0</td>\n",
       "      <td>0</td>\n",
       "      <td>NaN</td>\n",
       "      <td>NaN</td>\n",
       "      <td>NaN</td>\n",
       "      <td>N</td>\n",
       "      <td>1</td>\n",
       "      <td>22</td>\n",
       "      <td>700</td>\n",
       "    </tr>\n",
       "    <tr>\n",
       "      <th>1713</th>\n",
       "      <td>02/03/2568</td>\n",
       "      <td>12170040671</td>\n",
       "      <td>1680.04</td>\n",
       "      <td>0</td>\n",
       "      <td>NM</td>\n",
       "      <td>A301:RL</td>\n",
       "      <td>5000360121089821</td>\n",
       "      <td>พรรณทิวา ยศวิชัย</td>\n",
       "      <td>NaN</td>\n",
       "      <td>NaN</td>\n",
       "      <td>...</td>\n",
       "      <td>0</td>\n",
       "      <td>0</td>\n",
       "      <td>0</td>\n",
       "      <td>NaN</td>\n",
       "      <td>NaN</td>\n",
       "      <td>NaN</td>\n",
       "      <td>N</td>\n",
       "      <td>1</td>\n",
       "      <td>23</td>\n",
       "      <td>701</td>\n",
       "    </tr>\n",
       "    <tr>\n",
       "      <th>1714</th>\n",
       "      <td>02/03/2568</td>\n",
       "      <td>12180009183</td>\n",
       "      <td>1037.53</td>\n",
       "      <td>0</td>\n",
       "      <td>NM</td>\n",
       "      <td>A301:RL</td>\n",
       "      <td>5000361021084934</td>\n",
       "      <td>อุษานาฐ บัวประเสริฐ</td>\n",
       "      <td>NaN</td>\n",
       "      <td>NaN</td>\n",
       "      <td>...</td>\n",
       "      <td>0</td>\n",
       "      <td>0</td>\n",
       "      <td>0</td>\n",
       "      <td>NaN</td>\n",
       "      <td>NaN</td>\n",
       "      <td>NaN</td>\n",
       "      <td>N</td>\n",
       "      <td>1</td>\n",
       "      <td>22</td>\n",
       "      <td>700</td>\n",
       "    </tr>\n",
       "  </tbody>\n",
       "</table>\n",
       "<p>1715 rows × 37 columns</p>\n",
       "</div>"
      ],
      "text/plain": [
       "       base_date  customer_no  principal_balance  overdue_days  \\\n",
       "0     02/03/2568  12160025815            1758.70          1705   \n",
       "1     02/03/2568  12170059706            1195.80          2227   \n",
       "2     02/03/2568  12170055539           14651.47          1693   \n",
       "3     02/03/2568  12170009930           18467.50          1281   \n",
       "4     02/03/2568  12170048579           26952.96             0   \n",
       "...          ...          ...                ...           ...   \n",
       "1710  02/03/2568  12170016326            4279.35             0   \n",
       "1711  02/03/2568  12160007357            2247.85             0   \n",
       "1712  02/03/2568  12180031823            2122.15             0   \n",
       "1713  02/03/2568  12170040671            1680.04             0   \n",
       "1714  02/03/2568  12180009183            1037.53             0   \n",
       "\n",
       "     overdue_months_division_code sales_product_code           loan_no  \\\n",
       "0                       Write-Off            A301:RL  8002059091119217   \n",
       "1                       Write-Off            A301:RL  5000160071009465   \n",
       "2                       Write-Off            A301:RL  5000360121072091   \n",
       "3                       Write-Off            A301:RL  5000160061055928   \n",
       "4                       Write-Off            A301:RL  5000160081092314   \n",
       "...                           ...                ...               ...   \n",
       "1710                           NM            A301:RL  5000360061038665   \n",
       "1711                           NM            A301:RL  5000359091072746   \n",
       "1712                           NM            A301:RL  5000161031079048   \n",
       "1713                           NM            A301:RL  5000360121089821   \n",
       "1714                           NM            A301:RL  5000361021084934   \n",
       "\n",
       "                customer_name  customer_id_no2    mobile_no  ...  \\\n",
       "0     พลอยนภัส วัฒน์ธนาชัยกุล     3.240200e+12  982849995.0  ...   \n",
       "1              วิภา นวลจันทร์     3.901101e+12  936726641.0  ...   \n",
       "2                  กฤษฎา ขำคง     3.530800e+12  870251382.0  ...   \n",
       "3              พชระ สิทธิมงคล     1.190100e+12  834364588.0  ...   \n",
       "4             จินดา โพธิ์แก้ว     3.240300e+12  908866079.0  ...   \n",
       "...                       ...              ...          ...  ...   \n",
       "1710               วีณา บุญมี              NaN          NaN  ...   \n",
       "1711        สุภาภรณ์ ตันติเวช              NaN          NaN  ...   \n",
       "1712          กรรณิการ์ โม้ลา              NaN          NaN  ...   \n",
       "1713         พรรณทิวา ยศวิชัย              NaN          NaN  ...   \n",
       "1714      อุษานาฐ บัวประเสริฐ              NaN          NaN  ...   \n",
       "\n",
       "     billing_interest_amt  overdue_int  collection_fee         dob  \\\n",
       "0                       0            0               0  25-07-2526   \n",
       "1                       0            0               0  08-03-2519   \n",
       "2                       0            0               0  14-02-2517   \n",
       "3                       0            0               0  24-12-2527   \n",
       "4                       0            0               0  26-08-2513   \n",
       "...                   ...          ...             ...         ...   \n",
       "1710                    0            0               0         NaN   \n",
       "1711                    0            0               0         NaN   \n",
       "1712                    0            0               0         NaN   \n",
       "1713                    0            0               0         NaN   \n",
       "1714                    0            0               0         NaN   \n",
       "\n",
       "                            email_address             occupation ever_never  \\\n",
       "0     Ploynapat.watthanachaikul@gmail.com            OFFICE WORK          N   \n",
       "1                                     NaN          GENERAL LABOR          N   \n",
       "2                                     NaN          GENERAL LABOR          N   \n",
       "3                                     NaN          GENERAL LABOR          N   \n",
       "4                                     NaN  PRODUCTION LINE LABOR          N   \n",
       "...                                   ...                    ...        ...   \n",
       "1710                                  NaN                    NaN          N   \n",
       "1711                                  NaN                    NaN          N   \n",
       "1712                                  NaN                    NaN          N   \n",
       "1713                                  NaN                    NaN          N   \n",
       "1714                                  NaN                    NaN          N   \n",
       "\n",
       "      import_period  company_id user_id  \n",
       "0                 1           2     151  \n",
       "1                 1           2     151  \n",
       "2                 1           2     151  \n",
       "3                 1           2     151  \n",
       "4                 1           2     151  \n",
       "...             ...         ...     ...  \n",
       "1710              1          22     700  \n",
       "1711              1          24     702  \n",
       "1712              1          22     700  \n",
       "1713              1          23     701  \n",
       "1714              1          22     700  \n",
       "\n",
       "[1715 rows x 37 columns]"
      ]
     },
     "execution_count": 46,
     "metadata": {},
     "output_type": "execute_result"
    }
   ],
   "source": [
    "lit"
   ]
  },
  {
   "cell_type": "code",
   "execution_count": 47,
   "metadata": {},
   "outputs": [
    {
     "data": {
      "text/plain": [
       "True"
      ]
     },
     "execution_count": 47,
     "metadata": {},
     "output_type": "execute_result"
    }
   ],
   "source": [
    "lit.columns.equals(correct.columns)"
   ]
  },
  {
   "cell_type": "code",
   "execution_count": 54,
   "metadata": {},
   "outputs": [
    {
     "data": {
      "text/plain": [
       "True"
      ]
     },
     "execution_count": 54,
     "metadata": {},
     "output_type": "execute_result"
    }
   ],
   "source": [
    "lit.dtypes.equals(correct.dtypes)\n"
   ]
  },
  {
   "cell_type": "code",
   "execution_count": 49,
   "metadata": {},
   "outputs": [
    {
     "data": {
      "text/plain": [
       "True"
      ]
     },
     "execution_count": 49,
     "metadata": {},
     "output_type": "execute_result"
    }
   ],
   "source": [
    "lit.columns.equals(correct.columns)"
   ]
  },
  {
   "cell_type": "code",
   "execution_count": 57,
   "metadata": {},
   "outputs": [
    {
     "data": {
      "text/plain": [
       "True"
      ]
     },
     "execution_count": 57,
     "metadata": {},
     "output_type": "execute_result"
    }
   ],
   "source": [
    "lit['base_date'].map(type).nunique() == 1"
   ]
  },
  {
   "cell_type": "code",
   "execution_count": 51,
   "metadata": {},
   "outputs": [
    {
     "name": "stdout",
     "output_type": "stream",
     "text": [
      "Columns with different data types:\n",
      "['customer_id_no2', 'mobile_no', 'post_code', 'phone_no_home', 'biz_phone_no', 'phone_no', 'post_code4', 'delivery_phone_no', 'loan_amt', 'billing_interest_amt', 'overdue_int', 'collection_fee']\n"
     ]
    }
   ],
   "source": [
    "dtype_diff = lit.dtypes != correct.dtypes\n",
    "\n",
    "# Display columns where the data types are different\n",
    "if dtype_diff.any():\n",
    "    print(\"Columns with different data types:\")\n",
    "    print(dtype_diff[dtype_diff].index.tolist())  # Show only columns where data types differ\n",
    "else:\n",
    "    print(\"All columns have the same data type.\")"
   ]
  },
  {
   "cell_type": "code",
   "execution_count": 39,
   "metadata": {},
   "outputs": [],
   "source": [
    "import numpy as np"
   ]
  },
  {
   "cell_type": "code",
   "execution_count": 52,
   "metadata": {},
   "outputs": [],
   "source": [
    "for col in correct.columns:\n",
    "    # First, check if the dtype in 'correct' is an integer type (because int doesn't support NaN)\n",
    "    if np.issubdtype(correct[col].dtype, np.integer):\n",
    "        # Handle potential NaN or inf values before converting to integer\n",
    "        lit[col] = lit[col].fillna(0).replace([np.inf, -np.inf], 0).astype(int)\n",
    "    else:\n",
    "        # For non-integer columns, just convert the dtype\n",
    "        lit[col] = lit[col].astype(correct[col].dtype)"
   ]
  },
  {
   "cell_type": "code",
   "execution_count": 56,
   "metadata": {},
   "outputs": [],
   "source": [
    "lit.to_csv('./changetype_ASSIGN_WO_Litigation_14032568.csv')"
   ]
  },
  {
   "cell_type": "code",
   "execution_count": 42,
   "metadata": {},
   "outputs": [
    {
     "data": {
      "text/plain": [
       "base_date                        object\n",
       "customer_no                       int64\n",
       "principal_balance               float64\n",
       "overdue_days                      int64\n",
       "overdue_months_division_code     object\n",
       "sales_product_code               object\n",
       "loan_no                           int64\n",
       "customer_name                    object\n",
       "customer_id_no2                   int64\n",
       "mobile_no                         int64\n",
       "address_home                     object\n",
       "post_code                         int64\n",
       "phone_no_home                    object\n",
       "address_office                   object\n",
       "post_code2                      float64\n",
       "biz_phone_no                     object\n",
       "address__place_of_residence      object\n",
       "post_code3                      float64\n",
       "phone_no                         object\n",
       "delivery_address                 object\n",
       "post_code4                        int64\n",
       "delivery_phone_no                object\n",
       "outstanding_balance             float64\n",
       "loan_date                        object\n",
       "installment_count                 int64\n",
       "loan_amt                        float64\n",
       "overdue_start_date               object\n",
       "billing_interest_amt            float64\n",
       "overdue_int                     float64\n",
       "collection_fee                  float64\n",
       "dob                              object\n",
       "email_address                    object\n",
       "occupation                       object\n",
       "ever_never                       object\n",
       "import_period                     int64\n",
       "company_id                        int64\n",
       "user_id                           int64\n",
       "dtype: object"
      ]
     },
     "execution_count": 42,
     "metadata": {},
     "output_type": "execute_result"
    }
   ],
   "source": [
    "lit.dtypes"
   ]
  },
  {
   "cell_type": "code",
   "execution_count": 41,
   "metadata": {},
   "outputs": [
    {
     "data": {
      "text/plain": [
       "base_date                        object\n",
       "customer_no                       int64\n",
       "principal_balance               float64\n",
       "overdue_days                      int64\n",
       "overdue_months_division_code     object\n",
       "sales_product_code               object\n",
       "loan_no                           int64\n",
       "customer_name                    object\n",
       "customer_id_no2                   int64\n",
       "mobile_no                         int64\n",
       "address_home                     object\n",
       "post_code                         int64\n",
       "phone_no_home                    object\n",
       "address_office                   object\n",
       "post_code2                      float64\n",
       "biz_phone_no                     object\n",
       "address__place_of_residence      object\n",
       "post_code3                      float64\n",
       "phone_no                         object\n",
       "delivery_address                 object\n",
       "post_code4                        int64\n",
       "delivery_phone_no                object\n",
       "outstanding_balance             float64\n",
       "loan_date                        object\n",
       "installment_count                 int64\n",
       "loan_amt                        float64\n",
       "overdue_start_date               object\n",
       "billing_interest_amt            float64\n",
       "overdue_int                     float64\n",
       "collection_fee                  float64\n",
       "dob                              object\n",
       "email_address                    object\n",
       "occupation                       object\n",
       "ever_never                       object\n",
       "import_period                     int64\n",
       "company_id                        int64\n",
       "user_id                           int64\n",
       "dtype: object"
      ]
     },
     "execution_count": 41,
     "metadata": {},
     "output_type": "execute_result"
    }
   ],
   "source": [
    "correct.dtypes"
   ]
  },
  {
   "cell_type": "code",
   "execution_count": 14,
   "metadata": {},
   "outputs": [
    {
     "name": "stdout",
     "output_type": "stream",
     "text": [
      "Column 'base_date' has only one unique value: 02/03/2568\n",
      "Column 'customer_no' has multiple unique values.\n",
      "Column 'principal_balance' has multiple unique values.\n",
      "Column 'overdue_days' has multiple unique values.\n",
      "Column 'overdue_months_division_code' has multiple unique values.\n",
      "Column 'sales_product_code' has only one unique value: A701:SFLoan\n",
      "Column 'loan_no' has multiple unique values.\n",
      "Column 'customer_name' has multiple unique values.\n",
      "Column 'customer_id_no2' has multiple unique values.\n",
      "Column 'mobile_no' has multiple unique values.\n",
      "Column 'address_home' has multiple unique values.\n",
      "Column 'post_code' has multiple unique values.\n",
      "Column 'phone_no_home' has multiple unique values.\n",
      "Column 'address_office' has multiple unique values.\n",
      "Column 'post_code2' has multiple unique values.\n",
      "Column 'biz_phone_no' has multiple unique values.\n",
      "Column 'address__place_of_residence' has multiple unique values.\n",
      "Column 'post_code3' has multiple unique values.\n",
      "Column 'phone_no' has multiple unique values.\n",
      "Column 'delivery_address' has multiple unique values.\n",
      "Column 'post_code4' has multiple unique values.\n",
      "Column 'delivery_phone_no' has multiple unique values.\n",
      "Column 'outstanding_balance' has multiple unique values.\n",
      "Column 'loan_date' has multiple unique values.\n",
      "Column 'installment_count' has multiple unique values.\n",
      "Column 'loan_amt' has multiple unique values.\n",
      "Column 'overdue_start_date' has multiple unique values.\n",
      "Column 'billing_interest_amt' has multiple unique values.\n",
      "Column 'overdue_int' has multiple unique values.\n",
      "Column 'collection_fee' has multiple unique values.\n",
      "Column 'dob' has multiple unique values.\n",
      "Column 'email_address' has multiple unique values.\n",
      "Column 'occupation' has multiple unique values.\n",
      "Column 'ever_never' has only one unique value: N\n",
      "Column 'import_period' has only one unique value: 1\n",
      "Column 'company_id' has multiple unique values.\n",
      "Column 'user_id' has multiple unique values.\n"
     ]
    }
   ],
   "source": [
    "for col in correct.columns:\n",
    "    if correct[col].nunique() == 1:\n",
    "        print(f\"Column '{col}' has only one unique value: {correct[col].iloc[0]}\")\n",
    "    else:\n",
    "        print(f\"Column '{col}' has multiple unique values.\")"
   ]
  },
  {
   "cell_type": "code",
   "execution_count": 15,
   "metadata": {},
   "outputs": [
    {
     "name": "stdout",
     "output_type": "stream",
     "text": [
      "Column 'base_date' has only one data type: <class 'str'>\n",
      "Column 'customer_no' has only one data type: <class 'numpy.int64'>\n",
      "Column 'principal_balance' has only one data type: <class 'numpy.float64'>\n",
      "Column 'overdue_days' has only one data type: <class 'numpy.int64'>\n",
      "Column 'overdue_months_division_code' has only one data type: <class 'str'>\n",
      "Column 'sales_product_code' has only one data type: <class 'str'>\n",
      "Column 'loan_no' has only one data type: <class 'numpy.int64'>\n",
      "Column 'customer_name' has only one data type: <class 'str'>\n",
      "Column 'customer_id_no2' has only one data type: <class 'numpy.int64'>\n",
      "Column 'mobile_no' has only one data type: <class 'numpy.int64'>\n",
      "Column 'address_home' has only one data type: <class 'str'>\n",
      "Column 'post_code' has only one data type: <class 'numpy.int64'>\n",
      "Column 'phone_no_home' has only one data type: <class 'str'>\n",
      "Column 'address_office' has mixed data types.\n",
      "Column 'post_code2' has only one data type: <class 'numpy.float64'>\n",
      "Column 'biz_phone_no' has mixed data types.\n",
      "Column 'address__place_of_residence' has mixed data types.\n",
      "Column 'post_code3' has only one data type: <class 'numpy.float64'>\n",
      "Column 'phone_no' has mixed data types.\n",
      "Column 'delivery_address' has only one data type: <class 'str'>\n",
      "Column 'post_code4' has only one data type: <class 'numpy.int64'>\n",
      "Column 'delivery_phone_no' has mixed data types.\n",
      "Column 'outstanding_balance' has only one data type: <class 'numpy.float64'>\n",
      "Column 'loan_date' has only one data type: <class 'str'>\n",
      "Column 'installment_count' has only one data type: <class 'numpy.int64'>\n",
      "Column 'loan_amt' has only one data type: <class 'numpy.float64'>\n",
      "Column 'overdue_start_date' has only one data type: <class 'str'>\n",
      "Column 'billing_interest_amt' has only one data type: <class 'numpy.float64'>\n",
      "Column 'overdue_int' has only one data type: <class 'numpy.float64'>\n",
      "Column 'collection_fee' has only one data type: <class 'numpy.float64'>\n",
      "Column 'dob' has only one data type: <class 'str'>\n",
      "Column 'email_address' has only one data type: <class 'str'>\n",
      "Column 'occupation' has mixed data types.\n",
      "Column 'ever_never' has only one data type: <class 'str'>\n",
      "Column 'import_period' has only one data type: <class 'numpy.int64'>\n",
      "Column 'company_id' has only one data type: <class 'numpy.int64'>\n",
      "Column 'user_id' has only one data type: <class 'numpy.int64'>\n"
     ]
    }
   ],
   "source": [
    "for col in correct.columns:\n",
    "    if correct[col].map(type).nunique() == 1:\n",
    "        print(f\"Column '{col}' has only one data type: {type(correct[col].iloc[0])}\")\n",
    "    else:\n",
    "        print(f\"Column '{col}' has mixed data types.\")"
   ]
  },
  {
   "cell_type": "code",
   "execution_count": 16,
   "metadata": {},
   "outputs": [
    {
     "name": "stdout",
     "output_type": "stream",
     "text": [
      "Column 'base_date' has only one data type: <class 'str'>\n",
      "Column 'customer_no' has only one data type: <class 'numpy.int64'>\n",
      "Column 'principal_balance' has only one data type: <class 'numpy.float64'>\n",
      "Column 'overdue_days' has only one data type: <class 'numpy.int64'>\n",
      "Column 'overdue_months_division_code' has only one data type: <class 'str'>\n",
      "Column 'sales_product_code' has only one data type: <class 'str'>\n",
      "Column 'loan_no' has only one data type: <class 'numpy.int64'>\n",
      "Column 'customer_name' has only one data type: <class 'str'>\n",
      "Column 'customer_id_no2' has only one data type: <class 'numpy.float64'>\n",
      "Column 'mobile_no' has only one data type: <class 'numpy.float64'>\n",
      "Column 'address_home' has mixed data types.\n",
      "Column 'post_code' has only one data type: <class 'numpy.float64'>\n",
      "Column 'phone_no_home' has only one data type: <class 'numpy.float64'>\n",
      "Column 'address_office' has mixed data types.\n",
      "Column 'post_code2' has only one data type: <class 'numpy.float64'>\n",
      "Column 'biz_phone_no' has only one data type: <class 'numpy.float64'>\n",
      "Column 'address__place_of_residence' has mixed data types.\n",
      "Column 'post_code3' has only one data type: <class 'numpy.float64'>\n",
      "Column 'phone_no' has only one data type: <class 'numpy.float64'>\n",
      "Column 'delivery_address' has mixed data types.\n",
      "Column 'post_code4' has only one data type: <class 'numpy.float64'>\n",
      "Column 'delivery_phone_no' has only one data type: <class 'numpy.float64'>\n",
      "Column 'outstanding_balance' has only one data type: <class 'numpy.float64'>\n",
      "Column 'loan_date' has mixed data types.\n",
      "Column 'installment_count' has only one data type: <class 'numpy.int64'>\n",
      "Column 'loan_amt' has only one data type: <class 'numpy.int64'>\n",
      "Column 'overdue_start_date' has mixed data types.\n",
      "Column 'billing_interest_amt' has only one data type: <class 'numpy.int64'>\n",
      "Column 'overdue_int' has only one data type: <class 'numpy.int64'>\n",
      "Column 'collection_fee' has only one data type: <class 'numpy.int64'>\n",
      "Column 'dob' has mixed data types.\n",
      "Column 'email_address' has mixed data types.\n",
      "Column 'occupation' has mixed data types.\n",
      "Column 'ever_never' has only one data type: <class 'str'>\n",
      "Column 'import_period' has only one data type: <class 'numpy.int64'>\n",
      "Column 'company_id' has only one data type: <class 'numpy.int64'>\n",
      "Column 'user_id' has only one data type: <class 'numpy.int64'>\n"
     ]
    }
   ],
   "source": [
    "for col in lit.columns:\n",
    "    if lit[col].map(type).nunique() == 1:\n",
    "        print(f\"Column '{col}' has only one data type: {type(lit[col].iloc[0])}\")\n",
    "    else:\n",
    "        print(f\"Column '{col}' has mixed data types.\")"
   ]
  },
  {
   "cell_type": "code",
   "execution_count": 26,
   "metadata": {},
   "outputs": [
    {
     "data": {
      "text/plain": [
       "base_date                        object\n",
       "customer_no                       int64\n",
       "principal_balance               float64\n",
       "overdue_days                      int64\n",
       "overdue_months_division_code     object\n",
       "sales_product_code               object\n",
       "loan_no                           int64\n",
       "customer_name                    object\n",
       "customer_id_no2                   int64\n",
       "mobile_no                         int64\n",
       "address_home                     object\n",
       "post_code                         int64\n",
       "phone_no_home                    object\n",
       "address_office                   object\n",
       "post_code2                      float64\n",
       "biz_phone_no                     object\n",
       "address__place_of_residence      object\n",
       "post_code3                      float64\n",
       "phone_no                         object\n",
       "delivery_address                 object\n",
       "post_code4                        int64\n",
       "delivery_phone_no                object\n",
       "outstanding_balance             float64\n",
       "loan_date                        object\n",
       "installment_count                 int64\n",
       "loan_amt                        float64\n",
       "overdue_start_date               object\n",
       "billing_interest_amt            float64\n",
       "overdue_int                     float64\n",
       "collection_fee                  float64\n",
       "dob                              object\n",
       "email_address                    object\n",
       "occupation                       object\n",
       "ever_never                       object\n",
       "import_period                     int64\n",
       "company_id                        int64\n",
       "user_id                           int64\n",
       "dtype: object"
      ]
     },
     "execution_count": 26,
     "metadata": {},
     "output_type": "execute_result"
    }
   ],
   "source": [
    "correct.dtypes"
   ]
  },
  {
   "cell_type": "code",
   "execution_count": 27,
   "metadata": {},
   "outputs": [
    {
     "data": {
      "text/plain": [
       "base_date                        object\n",
       "customer_no                       int64\n",
       "principal_balance               float64\n",
       "overdue_days                      int64\n",
       "overdue_months_division_code     object\n",
       "sales_product_code               object\n",
       "loan_no                           int64\n",
       "customer_name                    object\n",
       "customer_id_no2                 float64\n",
       "mobile_no                       float64\n",
       "address_home                     object\n",
       "post_code                       float64\n",
       "phone_no_home                   float64\n",
       "address_office                   object\n",
       "post_code2                      float64\n",
       "biz_phone_no                    float64\n",
       "address__place_of_residence      object\n",
       "post_code3                      float64\n",
       "phone_no                        float64\n",
       "delivery_address                 object\n",
       "post_code4                      float64\n",
       "delivery_phone_no               float64\n",
       "outstanding_balance             float64\n",
       "loan_date                        object\n",
       "installment_count                 int64\n",
       "loan_amt                          int64\n",
       "overdue_start_date               object\n",
       "billing_interest_amt              int64\n",
       "overdue_int                       int64\n",
       "collection_fee                    int64\n",
       "dob                              object\n",
       "email_address                    object\n",
       "occupation                       object\n",
       "ever_never                       object\n",
       "import_period                     int64\n",
       "company_id                        int64\n",
       "user_id                           int64\n",
       "dtype: object"
      ]
     },
     "execution_count": 27,
     "metadata": {},
     "output_type": "execute_result"
    }
   ],
   "source": [
    "lit.dtypes"
   ]
  },
  {
   "cell_type": "code",
   "execution_count": null,
   "metadata": {},
   "outputs": [],
   "source": []
  }
 ],
 "metadata": {
  "kernelspec": {
   "display_name": ".venv",
   "language": "python",
   "name": "python3"
  },
  "language_info": {
   "codemirror_mode": {
    "name": "ipython",
    "version": 3
   },
   "file_extension": ".py",
   "mimetype": "text/x-python",
   "name": "python",
   "nbconvert_exporter": "python",
   "pygments_lexer": "ipython3",
   "version": "3.11.9"
  }
 },
 "nbformat": 4,
 "nbformat_minor": 2
}
