{
 "cells": [
  {
   "cell_type": "code",
   "execution_count": 1,
   "metadata": {},
   "outputs": [],
   "source": [
    "import pandas as pd"
   ]
  },
  {
   "cell_type": "code",
   "execution_count": 2,
   "metadata": {},
   "outputs": [
    {
     "name": "stderr",
     "output_type": "stream",
     "text": [
      "C:\\Users\\Sireetron\\AppData\\Local\\Temp\\ipykernel_32980\\2552805503.py:1: DtypeWarning: Columns (13,15) have mixed types. Specify dtype option on import or set low_memory=False.\n",
      "  correct = pd.read_csv('./ASSIGN_OA_SF_OD1OD2_02032568 1.csv')\n"
     ]
    }
   ],
   "source": [
    "correct = pd.read_csv('./ASSIGN_OA_SF_OD1OD2_02032568 1.csv')"
   ]
  },
  {
   "cell_type": "code",
   "execution_count": 3,
   "metadata": {},
   "outputs": [
    {
     "data": {
      "text/plain": [
       "37"
      ]
     },
     "execution_count": 3,
     "metadata": {},
     "output_type": "execute_result"
    }
   ],
   "source": [
    "correct.shape[1]"
   ]
  },
  {
   "cell_type": "code",
   "execution_count": 4,
   "metadata": {},
   "outputs": [
    {
     "data": {
      "text/plain": [
       "base_date                        object\n",
       "customer_no                       int64\n",
       "principal_balance               float64\n",
       "overdue_days                      int64\n",
       "overdue_months_division_code     object\n",
       "sales_product_code               object\n",
       "loan_no                           int64\n",
       "customer_name                    object\n",
       "customer_id_no2                   int64\n",
       "mobile_no                         int64\n",
       "address_home                     object\n",
       "post_code                         int64\n",
       "phone_no_home                    object\n",
       "address_office                   object\n",
       "post_code2                      float64\n",
       "biz_phone_no                     object\n",
       "address__place_of_residence      object\n",
       "post_code3                      float64\n",
       "phone_no                         object\n",
       "delivery_address                 object\n",
       "post_code4                        int64\n",
       "delivery_phone_no                object\n",
       "outstanding_balance             float64\n",
       "loan_date                        object\n",
       "installment_count                 int64\n",
       "loan_amt                        float64\n",
       "overdue_start_date               object\n",
       "billing_interest_amt            float64\n",
       "overdue_int                     float64\n",
       "collection_fee                  float64\n",
       "dob                              object\n",
       "email_address                    object\n",
       "occupation                       object\n",
       "ever_never                       object\n",
       "import_period                     int64\n",
       "company_id                        int64\n",
       "user_id                           int64\n",
       "dtype: object"
      ]
     },
     "execution_count": 4,
     "metadata": {},
     "output_type": "execute_result"
    }
   ],
   "source": [
    "correct.dtypes"
   ]
  },
  {
   "cell_type": "code",
   "execution_count": 6,
   "metadata": {},
   "outputs": [],
   "source": [
    "lit = pd.read_csv('./ASSIGN_WO_Litigation_14032568.csv')"
   ]
  },
  {
   "cell_type": "code",
   "execution_count": 7,
   "metadata": {},
   "outputs": [
    {
     "data": {
      "text/plain": [
       "True"
      ]
     },
     "execution_count": 7,
     "metadata": {},
     "output_type": "execute_result"
    }
   ],
   "source": [
    "lit.columns.equals(correct.columns)"
   ]
  },
  {
   "cell_type": "code",
   "execution_count": 8,
   "metadata": {},
   "outputs": [
    {
     "data": {
      "text/plain": [
       "False"
      ]
     },
     "execution_count": 8,
     "metadata": {},
     "output_type": "execute_result"
    }
   ],
   "source": [
    "lit.dtypes.equals(correct.dtypes)\n"
   ]
  },
  {
   "cell_type": "code",
   "execution_count": null,
   "metadata": {},
   "outputs": [
    {
     "data": {
      "text/plain": [
       "True"
      ]
     },
     "execution_count": 10,
     "metadata": {},
     "output_type": "execute_result"
    }
   ],
   "source": [
    "lit.columns.equals(correct.columns)"
   ]
  },
  {
   "cell_type": "code",
   "execution_count": 9,
   "metadata": {},
   "outputs": [
    {
     "name": "stdout",
     "output_type": "stream",
     "text": [
      "Columns with different data types:\n",
      "['customer_id_no2', 'mobile_no', 'post_code', 'phone_no_home', 'biz_phone_no', 'phone_no', 'post_code4', 'delivery_phone_no', 'loan_amt', 'billing_interest_amt', 'overdue_int', 'collection_fee']\n"
     ]
    }
   ],
   "source": [
    "dtype_diff = lit.dtypes != correct.dtypes\n",
    "\n",
    "# Display columns where the data types are different\n",
    "if dtype_diff.any():\n",
    "    print(\"Columns with different data types:\")\n",
    "    print(dtype_diff[dtype_diff].index.tolist())  # Show only columns where data types differ\n",
    "else:\n",
    "    print(\"All columns have the same data type.\")"
   ]
  },
  {
   "cell_type": "code",
   "execution_count": null,
   "metadata": {},
   "outputs": [],
   "source": []
  }
 ],
 "metadata": {
  "kernelspec": {
   "display_name": ".venv",
   "language": "python",
   "name": "python3"
  },
  "language_info": {
   "codemirror_mode": {
    "name": "ipython",
    "version": 3
   },
   "file_extension": ".py",
   "mimetype": "text/x-python",
   "name": "python",
   "nbconvert_exporter": "python",
   "pygments_lexer": "ipython3",
   "version": "3.11.9"
  }
 },
 "nbformat": 4,
 "nbformat_minor": 2
}
