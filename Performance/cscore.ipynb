{
 "cells": [
  {
   "cell_type": "code",
   "execution_count": 1,
   "metadata": {},
   "outputs": [],
   "source": [
    "import pandas as pd\n",
    "# from utils import select_min_pay, read_input_file, export_file\n",
    "import glob\n",
    "import numpy as np\n",
    "import pandas as pd\n",
    "import glob\n",
    "import logging\n",
    "import win32com.client as win32\n",
    "import os\n",
    "import jaydebeapi\n",
    "from const import QUERY, CONNECT"
   ]
  },
  {
   "cell_type": "code",
   "execution_count": 14,
   "metadata": {},
   "outputs": [
    {
     "name": "stdout",
     "output_type": "stream",
     "text": [
      "Error: DPY-6005: cannot connect to database (CONNECTION_ID=AxhIyW4ax5R3P1mLLOpTug==).\n",
      "DPY-6003: SID \"your_SID_here\" is not registered with the listener at host \"10.1.41.100\" port 1622. (Similar to ORA-12505)\n"
     ]
    }
   ],
   "source": [
    "import oracledb\n",
    "\n",
    "try:\n",
    "    # Provide a full connection string\n",
    "    connection = oracledb.connect(\n",
    "        user=\"supat\",\n",
    "        password=\"SU#pass005\",\n",
    "        dsn=\"(DESCRIPTION=(ADDRESS_LIST=(ADDRESS=(PROTOCOL=TCP)(HOST=10.1.41.100)(PORT=1622)))(CONNECT_DATA=(SID=your_SID_here)))\"\n",
    "    )\n",
    "    print(\"Connection successful!\")\n",
    "except oracledb.Error as e:\n",
    "    print(f\"Error: {e}\")"
   ]
  },
  {
   "cell_type": "code",
   "execution_count": null,
   "metadata": {},
   "outputs": [
    {
     "ename": "ModuleNotFoundError",
     "evalue": "No module named 'cx_Oracle'",
     "output_type": "error",
     "traceback": [
      "\u001b[31m---------------------------------------------------------------------------\u001b[39m",
      "\u001b[31mModuleNotFoundError\u001b[39m                       Traceback (most recent call last)",
      "\u001b[36mCell\u001b[39m\u001b[36m \u001b[39m\u001b[32mIn[2]\u001b[39m\u001b[32m, line 1\u001b[39m\n\u001b[32m----> \u001b[39m\u001b[32m1\u001b[39m \u001b[38;5;28;01mimport\u001b[39;00m\u001b[38;5;250m \u001b[39m\u001b[34;01mcx_Oracle\u001b[39;00m\n\u001b[32m      3\u001b[39m conn_str = \u001b[33mu\u001b[39m\u001b[33m'\u001b[39m\u001b[33msupat/SU#pass005@10.1.41.100:1622/JFDWH\u001b[39m\u001b[33m'\u001b[39m\n\u001b[32m      4\u001b[39m conn = cx_Oracle.connect(conn_str)\n",
      "\u001b[31mModuleNotFoundError\u001b[39m: No module named 'cx_Oracle'"
     ]
    }
   ],
   "source": [
    "\n",
    "conn_str = u'supat/SU#pass005@10.1.41.100:1622/JFDWH'\n",
    "conn = cx_Oracle.connect(conn_str)\n",
    "c = conn.cursor()"
   ]
  },
  {
   "cell_type": "code",
   "execution_count": 5,
   "metadata": {},
   "outputs": [],
   "source": [
    "!pip install cx_Oracle"
   ]
  },
  {
   "cell_type": "code",
   "execution_count": 15,
   "metadata": {},
   "outputs": [
    {
     "ename": "TypeError",
     "evalue": "Class oracle.jdbc.OracleDriver is not found",
     "output_type": "error",
     "traceback": [
      "\u001b[31m---------------------------------------------------------------------------\u001b[39m",
      "\u001b[31mTypeError\u001b[39m                                 Traceback (most recent call last)",
      "\u001b[36mCell\u001b[39m\u001b[36m \u001b[39m\u001b[32mIn[15]\u001b[39m\u001b[32m, line 8\u001b[39m\n\u001b[32m      4\u001b[39m DRIVER_CLASS = \u001b[33m\"\u001b[39m\u001b[33moracle.jdbc.OracleDriver\u001b[39m\u001b[33m\"\u001b[39m\n\u001b[32m      7\u001b[39m \u001b[38;5;66;03m# Establish connection\u001b[39;00m\n\u001b[32m----> \u001b[39m\u001b[32m8\u001b[39m conn = \u001b[43mjaydebeapi\u001b[49m\u001b[43m.\u001b[49m\u001b[43mconnect\u001b[49m\u001b[43m(\u001b[49m\n\u001b[32m      9\u001b[39m \u001b[43m    \u001b[49m\u001b[43mDRIVER_CLASS\u001b[49m\u001b[43m,\u001b[49m\n\u001b[32m     10\u001b[39m \u001b[43m    \u001b[49m\u001b[43mJDBC_URL\u001b[49m\u001b[43m,\u001b[49m\n\u001b[32m     11\u001b[39m \u001b[43m    \u001b[49m\u001b[43m[\u001b[49m\u001b[43mUSER\u001b[49m\u001b[43m,\u001b[49m\u001b[43m \u001b[49m\u001b[43mPASSWORD\u001b[49m\u001b[43m]\u001b[49m\u001b[43m,\u001b[49m\n\u001b[32m     12\u001b[39m \u001b[43m)\u001b[49m\n\u001b[32m     14\u001b[39m \u001b[38;5;28mprint\u001b[39m(\u001b[33m\"\u001b[39m\u001b[33mConnected to Oracle Database!\u001b[39m\u001b[33m\"\u001b[39m)\n",
      "\u001b[36mFile \u001b[39m\u001b[32mc:\\Users\\Sireetron\\automated\\kbj_automation\\.venv\\Lib\\site-packages\\jaydebeapi\\__init__.py:412\u001b[39m, in \u001b[36mconnect\u001b[39m\u001b[34m(jclassname, url, driver_args, jars, libs)\u001b[39m\n\u001b[32m    410\u001b[39m \u001b[38;5;28;01melse\u001b[39;00m:\n\u001b[32m    411\u001b[39m     libs = []\n\u001b[32m--> \u001b[39m\u001b[32m412\u001b[39m jconn = \u001b[43m_jdbc_connect\u001b[49m\u001b[43m(\u001b[49m\u001b[43mjclassname\u001b[49m\u001b[43m,\u001b[49m\u001b[43m \u001b[49m\u001b[43murl\u001b[49m\u001b[43m,\u001b[49m\u001b[43m \u001b[49m\u001b[43mdriver_args\u001b[49m\u001b[43m,\u001b[49m\u001b[43m \u001b[49m\u001b[43mjars\u001b[49m\u001b[43m,\u001b[49m\u001b[43m \u001b[49m\u001b[43mlibs\u001b[49m\u001b[43m)\u001b[49m\n\u001b[32m    413\u001b[39m \u001b[38;5;28;01mreturn\u001b[39;00m Connection(jconn, _converters)\n",
      "\u001b[36mFile \u001b[39m\u001b[32mc:\\Users\\Sireetron\\automated\\kbj_automation\\.venv\\Lib\\site-packages\\jaydebeapi\\__init__.py:221\u001b[39m, in \u001b[36m_jdbc_connect_jpype\u001b[39m\u001b[34m(jclassname, url, driver_args, jars, libs)\u001b[39m\n\u001b[32m    219\u001b[39m         \u001b[38;5;28;01mreturn\u001b[39;00m jpype.JArray(jpype.JByte, \u001b[32m1\u001b[39m)(data)\n\u001b[32m    220\u001b[39m \u001b[38;5;66;03m# register driver for DriverManager\u001b[39;00m\n\u001b[32m--> \u001b[39m\u001b[32m221\u001b[39m \u001b[43mjpype\u001b[49m\u001b[43m.\u001b[49m\u001b[43mJClass\u001b[49m\u001b[43m(\u001b[49m\u001b[43mjclassname\u001b[49m\u001b[43m)\u001b[49m\n\u001b[32m    222\u001b[39m \u001b[38;5;28;01mif\u001b[39;00m \u001b[38;5;28misinstance\u001b[39m(driver_args, \u001b[38;5;28mdict\u001b[39m):\n\u001b[32m    223\u001b[39m     Properties = jpype.java.util.Properties\n",
      "\u001b[36mFile \u001b[39m\u001b[32mc:\\Users\\Sireetron\\automated\\kbj_automation\\.venv\\Lib\\site-packages\\jpype\\_jclass.py:99\u001b[39m, in \u001b[36mJClass.__new__\u001b[39m\u001b[34m(cls, jc, loader, initialize)\u001b[39m\n\u001b[32m     96\u001b[39m     \u001b[38;5;28;01mreturn\u001b[39;00m ret\n\u001b[32m     98\u001b[39m \u001b[38;5;66;03m# Pass to class factory to create the type\u001b[39;00m\n\u001b[32m---> \u001b[39m\u001b[32m99\u001b[39m \u001b[38;5;28;01mreturn\u001b[39;00m _jpype._getClass(jc)\n",
      "\u001b[31mTypeError\u001b[39m: Class oracle.jdbc.OracleDriver is not found"
     ]
    }
   ],
   "source": [
    "JDBC_URL = \"jdbc:oracle:thin:@//10.1.41.100:1622/JFDWH\"  # Update details\n",
    "USER = \"supat\"\n",
    "PASSWORD = \"SU#pass005\"\n",
    "DRIVER_CLASS = \"oracle.jdbc.OracleDriver\"\n",
    "\n",
    "\n",
    "# Establish connection\n",
    "conn = jaydebeapi.connect(\n",
    "    DRIVER_CLASS,\n",
    "    JDBC_URL,\n",
    "    [USER, PASSWORD],\n",
    ")\n",
    "\n",
    "print(\"Connected to Oracle Database!\")\n"
   ]
  },
  {
   "cell_type": "code",
   "execution_count": 6,
   "metadata": {},
   "outputs": [],
   "source": [
    "def connectdate():\n",
    "    try:\n",
    "        # Establish connection to the database\n",
    "        print(CONNECT.DB)\n",
    "        conn = jaydebeapi.connect(\n",
    "            CONNECT.DB,\n",
    "            CONNECT.PORT,\n",
    "            CONNECT.USER,\n",
    "            CONNECT.CNN,\n",
    "        )\n",
    "        print(\"Connection established successfully!\")\n",
    "\n",
    "        # Create a cursor to interact with the database\n",
    "        # cur = conn.cursor()\n",
    "\n",
    "        # Execute the query and retrieve the result\n",
    "        print(\"startquery\")\n",
    "        sql = f'''\n",
    "   WITH rawdata AS (\n",
    "SELECT tcc.CONTRACT_NO ,tcc.NATIONAL_ID ,tcc.GROSS_INCOME ,tcc.OCCUPATION_TYPE ,\n",
    "tcc.CONTRACT_DATE ,floor(MONTHS_BETWEEN(SYSDATE, tcc.CONTRACT_DATE))  AS contract_period,\n",
    "FLOOR(MONTHS_BETWEEN(SYSDATE, tcc.DATE_OF_BIRTH) / 12) AS age,\n",
    "PRINCIPAL_BAL ,\n",
    "CASE WHEN floor(MONTHS_BETWEEN(SYSDATE, tcc.CONTRACT_DATE))  < 7 THEN '06' ELSE '07'END AS MOB,\n",
    "CASE \n",
    "        WHEN tcc.GROSS_INCOME BETWEEN 0 AND 15000 THEN '3' \n",
    "        WHEN tcc.GROSS_INCOME BETWEEN 15001 AND 30000 THEN '3'\n",
    "        WHEN tcc.GROSS_INCOME BETWEEN 30001 AND 50000 THEN '2'\n",
    "        WHEN tcc.GROSS_INCOME BETWEEN 50001 AND 100000 THEN '1'\n",
    "        WHEN tcc.GROSS_INCOME > 100000 THEN '1'\n",
    "        ELSE NULL \n",
    "    END AS  digit2income,\n",
    "    tas.INDEX_SCORE AS digit2age\n",
    "FROM TEMP_CONTRACT_CUSTOMER tcc \n",
    "LEFT JOIN TEMP_AGE_SCORE tas ON tas.AGE = FLOOR(MONTHS_BETWEEN(SYSDATE, tcc.DATE_OF_BIRTH) / 12) \n",
    ")\n",
    "SELECT t2.*,\n",
    "t3.score AS digit2_totalscore,\n",
    " 'L' || t3.SCORE || t2.MOB AS final_score\n",
    "FROM  rawdata t2\n",
    "LEFT JOIN TEMP_DIGIT2_SCORE t3 ON t3.sumdigit = t2.digit2income+t2.digit2age\n",
    "    '''\n",
    "        cur = conn.cursor()\n",
    "        cur.execute(sql)\n",
    "        print(\"Execute\")\n",
    "\n",
    "        # Fetch and convert results to DataFrame\n",
    "        rows = cur.fetchall()\n",
    "        col_names = [desc[0] for desc in cur.description]\n",
    "        cur.close()\n",
    "        print(\"close\")\n",
    "\n",
    "        min_pay = pd.DataFrame(rows, columns=col_names)\n",
    "        print(\"finishqueryquery\")\n",
    "\n",
    "        return min_pay\n",
    "\n",
    "    except Exception as e:\n",
    "        print(f\"Error occurred: {e}\")\n",
    "        return None\n",
    "\n",
    "    # finally:\n",
    "    #     # Ensure the connection is closed even if an error occurs\n",
    "    #     if conn:\n",
    "    #         conn.close()\n",
    "    #         print(\"Connection closed.\")"
   ]
  },
  {
   "cell_type": "code",
   "execution_count": 7,
   "metadata": {},
   "outputs": [
    {
     "name": "stdout",
     "output_type": "stream",
     "text": [
      "Error occurred: name 'CONNECT' is not defined\n"
     ]
    }
   ],
   "source": [
    "connectdate()"
   ]
  },
  {
   "cell_type": "code",
   "execution_count": null,
   "metadata": {},
   "outputs": [],
   "source": []
  }
 ],
 "metadata": {
  "kernelspec": {
   "display_name": ".venv",
   "language": "python",
   "name": "python3"
  },
  "language_info": {
   "codemirror_mode": {
    "name": "ipython",
    "version": 3
   },
   "file_extension": ".py",
   "mimetype": "text/x-python",
   "name": "python",
   "nbconvert_exporter": "python",
   "pygments_lexer": "ipython3",
   "version": "3.11.9"
  }
 },
 "nbformat": 4,
 "nbformat_minor": 2
}
