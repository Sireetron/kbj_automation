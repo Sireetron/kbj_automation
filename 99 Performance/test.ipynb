{
 "cells": [
  {
   "cell_type": "code",
   "execution_count": 6,
   "metadata": {},
   "outputs": [],
   "source": [
    "import pandas as pd\n",
    "# from utils import select_min_pay, read_input_file, export_file\n",
    "import glob\n",
    "import numpy as np\n",
    "import pandas as pd\n",
    "import glob\n",
    "import logging\n",
    "import win32com.client as win32\n",
    "import os\n",
    "import jaydebeapi\n",
    "from const import QUERY, CONNECT\n",
    "import oracledb\n",
    "import getpass\n",
    "import json"
   ]
  },
  {
   "cell_type": "code",
   "execution_count": 8,
   "metadata": {},
   "outputs": [],
   "source": [
    "data_weight = pd.read_csv('./input/acc_current/Acc_20250301_0830.csv')\n"
   ]
  },
  {
   "cell_type": "code",
   "execution_count": null,
   "metadata": {},
   "outputs": [],
   "source": []
  }
 ],
 "metadata": {
  "kernelspec": {
   "display_name": ".venv",
   "language": "python",
   "name": "python3"
  },
  "language_info": {
   "codemirror_mode": {
    "name": "ipython",
    "version": 3
   },
   "file_extension": ".py",
   "mimetype": "text/x-python",
   "name": "python",
   "nbconvert_exporter": "python",
   "pygments_lexer": "ipython3",
   "version": "3.11.9"
  }
 },
 "nbformat": 4,
 "nbformat_minor": 2
}
