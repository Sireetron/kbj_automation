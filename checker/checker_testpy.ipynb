{
 "cells": [
  {
   "cell_type": "code",
   "execution_count": 26,
   "metadata": {},
   "outputs": [],
   "source": [
    "import os\n",
    "import pandas as pd\n",
    "import glob\n",
    "import pandas as pd\n",
    "import glob\n",
    "import numpy as np\n",
    "import pandas as pd\n",
    "import glob\n",
    "# import win32com.client as win32\n",
    "import jaydebeapi\n",
    "import re\n",
    "# from const import QUERY_CUSTOMERINFO,CONNECT_ORACLE\n",
    "import sys\n",
    "sys.path.append(os.path.abspath('../'))\n",
    "from const import  CONNECT_ORACLE\n"
   ]
  },
  {
   "cell_type": "code",
   "execution_count": 20,
   "metadata": {},
   "outputs": [],
   "source": [
    "def clean_column_names(df):\n",
    "    df.columns = df.columns.str.lower()  \n",
    "    df.columns = df.columns.str.replace(r'\\.', '', regex=True)\n",
    "    df.columns = df.columns.str.replace(r' ', '_', regex=True)  \n",
    "    df.columns = df.columns.str.replace('customer_id_no|customer_no|customer_id|national_id', 'customer_no', regex=True) \n",
    "    df.columns = df.columns.str.replace(r'loan_no', 'contract_no', regex=True)\n",
    "    df.columns = df.columns.str.replace(r'mobile.*', 'mobile_no', regex=True)\n",
    "    df.columns = df.columns.str.replace(r'customer_name/surname\\(thai\\)', 'customer_name', regex=True)  \n",
    "    return df\n"
   ]
  },
  {
   "cell_type": "code",
   "execution_count": 29,
   "metadata": {},
   "outputs": [],
   "source": [
    "input_folder = \"../checker/input/assign_input/\""
   ]
  },
  {
   "cell_type": "code",
   "execution_count": 30,
   "metadata": {},
   "outputs": [
    {
     "name": "stdout",
     "output_type": "stream",
     "text": [
      "files ['../checker/input/assign_input\\\\Template SMS SF+ non assign 17042025 (BASE).xlsx']\n"
     ]
    }
   ],
   "source": [
    "files = glob.glob(os.path.join(input_folder, \"*.xlsx\")) + glob.glob(os.path.join(input_folder, \"*.csv\"))\n",
    "print('files',files)"
   ]
  },
  {
   "cell_type": "code",
   "execution_count": 31,
   "metadata": {},
   "outputs": [
    {
     "name": "stdout",
     "output_type": "stream",
     "text": [
      "assignassignassign        No.              Loan  Customer ID No Customer Name/Surname(Thai)  \\\n",
      "0        1  7240770103224216   1520800109680            วรฤทัย เขียวเพชร   \n",
      "1        2  7241070104039992   3960500135459               อรุณี ทองชาติ   \n",
      "2        3  7241170104178724   3510600786668             ชวลิต หารุคำจ๋า   \n",
      "3        4  7240770103221414   3670200265236                  จอม ขุนทอง   \n",
      "4        5  7240870103638744   1849901429472            ภานุพงษ์ บานเย็น   \n",
      "...    ...               ...             ...                         ...   \n",
      "6462  6463  7230470100367012   1420400073671             ธนาพงษ์ ธุระแพง   \n",
      "6463  6464  7240370102383727   3310101209799                บุญมี วงเขมร   \n",
      "6464  6465  7240370102359575   1429900157766           ประสิทธิ์ ไชยเสือ   \n",
      "6465  6466  7230970101234840   1103701092386          อนุสรณ์ พิทักรักษา   \n",
      "6466  6467  7240470102534019   3660700646107               ยุพา เอี่ยมอบ   \n",
      "\n",
      "        MobileNo  Status  AR TODAY  4 Digit  เบอร์ติดต่อกลับ  Len  \\\n",
      "0     0930651881  UNSAVE    749.25      NaN              NaN  NaN   \n",
      "1     0924762893  UNSAVE    374.50      NaN              NaN  NaN   \n",
      "2     0923253050  UNSAVE    374.50      NaN              NaN  NaN   \n",
      "3     0910287418  UNSAVE    748.94      NaN              NaN  NaN   \n",
      "4     0924970689  UNSAVE    464.45      NaN              NaN  NaN   \n",
      "...          ...     ...       ...      ...              ...  ...   \n",
      "6462  0800067647  UNSAVE    166.94      NaN              NaN  NaN   \n",
      "6463  0987793797  UNSAVE    137.21      NaN              NaN  NaN   \n",
      "6464  0630285613  UNSAVE    128.81      NaN              NaN  NaN   \n",
      "6465  0990949394  UNSAVE    127.36      NaN              NaN  NaN   \n",
      "6466  0981628552  UNSAVE    123.17      NaN              NaN  NaN   \n",
      "\n",
      "            sms_type  \n",
      "0     SF+ non assign  \n",
      "1     SF+ non assign  \n",
      "2     SF+ non assign  \n",
      "3     SF+ non assign  \n",
      "4     SF+ non assign  \n",
      "...              ...  \n",
      "6462  SF+ non assign  \n",
      "6463  SF+ non assign  \n",
      "6464  SF+ non assign  \n",
      "6465  SF+ non assign  \n",
      "6466  SF+ non assign  \n",
      "\n",
      "[6467 rows x 11 columns]\n"
     ]
    }
   ],
   "source": [
    "if files:\n",
    "    file_path = files[0]\n",
    "    if file_path.endswith(\".xlsx\"):\n",
    "        assign = pd.read_excel(file_path,sheet_name='Data', dtype={'MobileNo': str})\n",
    "        print('assignassignassign',assign)\n",
    "    elif file_path.endswith(\".csv\"):\n",
    "        assign = pd.read_csv(file_path,sheet_name='Data', dtype={'MobileNo': str})   \n",
    "else:\n",
    "    print(\"No file found in the folder.\")"
   ]
  },
  {
   "cell_type": "code",
   "execution_count": 32,
   "metadata": {},
   "outputs": [
    {
     "ename": "TypeError",
     "evalue": "Class oracle.jdbc.OracleDriver is not found",
     "output_type": "error",
     "traceback": [
      "\u001b[31m---------------------------------------------------------------------------\u001b[39m",
      "\u001b[31mTypeError\u001b[39m                                 Traceback (most recent call last)",
      "\u001b[36mCell\u001b[39m\u001b[36m \u001b[39m\u001b[32mIn[32]\u001b[39m\u001b[32m, line 1\u001b[39m\n\u001b[32m----> \u001b[39m\u001b[32m1\u001b[39m conn = \u001b[43mjaydebeapi\u001b[49m\u001b[43m.\u001b[49m\u001b[43mconnect\u001b[49m\u001b[43m(\u001b[49m\n\u001b[32m      2\u001b[39m \u001b[43m        \u001b[49m\u001b[43mCONNECT_ORACLE\u001b[49m\u001b[43m.\u001b[49m\u001b[43mjclassname\u001b[49m\u001b[43m,\u001b[49m\n\u001b[32m      3\u001b[39m \u001b[43m        \u001b[49m\u001b[43mCONNECT_ORACLE\u001b[49m\u001b[43m.\u001b[49m\u001b[43murl\u001b[49m\u001b[43m,\u001b[49m\n\u001b[32m      4\u001b[39m \u001b[43m        \u001b[49m\u001b[43mCONNECT_ORACLE\u001b[49m\u001b[43m.\u001b[49m\u001b[43mjars\u001b[49m\u001b[43m,\u001b[49m\n\u001b[32m      5\u001b[39m \u001b[43m        \u001b[49m\u001b[43mCONNECT_ORACLE\u001b[49m\u001b[43m.\u001b[49m\u001b[43mlib\u001b[49m\u001b[43m,\u001b[49m\n\u001b[32m      6\u001b[39m \u001b[43m        \u001b[49m\u001b[43m)\u001b[49m\n\u001b[32m      7\u001b[39m cur = conn.cursor() \t\n",
      "\u001b[36mFile \u001b[39m\u001b[32mc:\\Users\\Sireetron\\automated\\kbj_automation\\.venv\\Lib\\site-packages\\jaydebeapi\\__init__.py:412\u001b[39m, in \u001b[36mconnect\u001b[39m\u001b[34m(jclassname, url, driver_args, jars, libs)\u001b[39m\n\u001b[32m    410\u001b[39m \u001b[38;5;28;01melse\u001b[39;00m:\n\u001b[32m    411\u001b[39m     libs = []\n\u001b[32m--> \u001b[39m\u001b[32m412\u001b[39m jconn = \u001b[43m_jdbc_connect\u001b[49m\u001b[43m(\u001b[49m\u001b[43mjclassname\u001b[49m\u001b[43m,\u001b[49m\u001b[43m \u001b[49m\u001b[43murl\u001b[49m\u001b[43m,\u001b[49m\u001b[43m \u001b[49m\u001b[43mdriver_args\u001b[49m\u001b[43m,\u001b[49m\u001b[43m \u001b[49m\u001b[43mjars\u001b[49m\u001b[43m,\u001b[49m\u001b[43m \u001b[49m\u001b[43mlibs\u001b[49m\u001b[43m)\u001b[49m\n\u001b[32m    413\u001b[39m \u001b[38;5;28;01mreturn\u001b[39;00m Connection(jconn, _converters)\n",
      "\u001b[36mFile \u001b[39m\u001b[32mc:\\Users\\Sireetron\\automated\\kbj_automation\\.venv\\Lib\\site-packages\\jaydebeapi\\__init__.py:221\u001b[39m, in \u001b[36m_jdbc_connect_jpype\u001b[39m\u001b[34m(jclassname, url, driver_args, jars, libs)\u001b[39m\n\u001b[32m    219\u001b[39m         \u001b[38;5;28;01mreturn\u001b[39;00m jpype.JArray(jpype.JByte, \u001b[32m1\u001b[39m)(data)\n\u001b[32m    220\u001b[39m \u001b[38;5;66;03m# register driver for DriverManager\u001b[39;00m\n\u001b[32m--> \u001b[39m\u001b[32m221\u001b[39m \u001b[43mjpype\u001b[49m\u001b[43m.\u001b[49m\u001b[43mJClass\u001b[49m\u001b[43m(\u001b[49m\u001b[43mjclassname\u001b[49m\u001b[43m)\u001b[49m\n\u001b[32m    222\u001b[39m \u001b[38;5;28;01mif\u001b[39;00m \u001b[38;5;28misinstance\u001b[39m(driver_args, \u001b[38;5;28mdict\u001b[39m):\n\u001b[32m    223\u001b[39m     Properties = jpype.java.util.Properties\n",
      "\u001b[36mFile \u001b[39m\u001b[32mc:\\Users\\Sireetron\\automated\\kbj_automation\\.venv\\Lib\\site-packages\\jpype\\_jclass.py:99\u001b[39m, in \u001b[36mJClass.__new__\u001b[39m\u001b[34m(cls, jc, loader, initialize)\u001b[39m\n\u001b[32m     96\u001b[39m     \u001b[38;5;28;01mreturn\u001b[39;00m ret\n\u001b[32m     98\u001b[39m \u001b[38;5;66;03m# Pass to class factory to create the type\u001b[39;00m\n\u001b[32m---> \u001b[39m\u001b[32m99\u001b[39m \u001b[38;5;28;01mreturn\u001b[39;00m _jpype._getClass(jc)\n",
      "\u001b[31mTypeError\u001b[39m: Class oracle.jdbc.OracleDriver is not found"
     ]
    }
   ],
   "source": [
    "conn = jaydebeapi.connect(\n",
    "        CONNECT_ORACLE.jclassname,\n",
    "        CONNECT_ORACLE.url,\n",
    "        CONNECT_ORACLE.jars,\n",
    "        CONNECT_ORACLE.lib,\n",
    "        )\n",
    "cur = conn.cursor() \t\n"
   ]
  },
  {
   "cell_type": "code",
   "execution_count": null,
   "metadata": {},
   "outputs": [],
   "source": []
  }
 ],
 "metadata": {
  "kernelspec": {
   "display_name": ".venv",
   "language": "python",
   "name": "python3"
  },
  "language_info": {
   "codemirror_mode": {
    "name": "ipython",
    "version": 3
   },
   "file_extension": ".py",
   "mimetype": "text/x-python",
   "name": "python",
   "nbconvert_exporter": "python",
   "pygments_lexer": "ipython3",
   "version": "3.11.9"
  }
 },
 "nbformat": 4,
 "nbformat_minor": 2
}
