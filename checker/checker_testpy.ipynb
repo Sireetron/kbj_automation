{
 "cells": [
  {
   "cell_type": "code",
   "execution_count": 1,
   "metadata": {},
   "outputs": [
    {
     "data": {
      "text/plain": [
       "True"
      ]
     },
     "execution_count": 1,
     "metadata": {},
     "output_type": "execute_result"
    }
   ],
   "source": [
    "import os\n",
    "import pandas as pd\n",
    "import glob\n",
    "import pandas as pd\n",
    "import glob\n",
    "import numpy as np\n",
    "import pandas as pd\n",
    "import glob\n",
    "# import win32com.client as win32\n",
    "import jaydebeapi\n",
    "import re\n",
    "import oracledb\n",
    "# from const import QUERY_CUSTOMERINFO,CONNECT_ORACLE\n",
    "import sys\n",
    "sys.path.append(os.path.abspath(''))\n",
    "from dotenv import load_dotenv\n",
    "load_dotenv() \n"
   ]
  },
  {
   "cell_type": "code",
   "execution_count": 8,
   "metadata": {},
   "outputs": [
    {
     "ename": "DatabaseError",
     "evalue": "DPY-4027: no configuration directory specified",
     "output_type": "error",
     "traceback": [
      "\u001b[31m---------------------------------------------------------------------------\u001b[39m",
      "\u001b[31mDatabaseError\u001b[39m                             Traceback (most recent call last)",
      "\u001b[36mCell\u001b[39m\u001b[36m \u001b[39m\u001b[32mIn[8]\u001b[39m\u001b[32m, line 1\u001b[39m\n\u001b[32m----> \u001b[39m\u001b[32m1\u001b[39m connection = \u001b[43moracledb\u001b[49m\u001b[43m.\u001b[49m\u001b[43mconnect\u001b[49m\u001b[43m(\u001b[49m\n\u001b[32m      2\u001b[39m \u001b[43m    \u001b[49m\u001b[43muser\u001b[49m\u001b[43m=\u001b[49m\u001b[43mos\u001b[49m\u001b[43m.\u001b[49m\u001b[43mgetenv\u001b[49m\u001b[43m(\u001b[49m\u001b[33;43m\"\u001b[39;49m\u001b[33;43mORACLE_USER\u001b[39;49m\u001b[33;43m\"\u001b[39;49m\u001b[43m)\u001b[49m\u001b[43m,\u001b[49m\n\u001b[32m      3\u001b[39m \u001b[43m    \u001b[49m\u001b[43mpassword\u001b[49m\u001b[43m=\u001b[49m\u001b[43mos\u001b[49m\u001b[43m.\u001b[49m\u001b[43mgetenv\u001b[49m\u001b[43m(\u001b[49m\u001b[33;43m\"\u001b[39;49m\u001b[33;43mORACLE_PASSWORD\u001b[39;49m\u001b[33;43m\"\u001b[39;49m\u001b[43m)\u001b[49m\u001b[43m,\u001b[49m\n\u001b[32m      4\u001b[39m \u001b[43m    \u001b[49m\u001b[43mdsn\u001b[49m\u001b[43m=\u001b[49m\u001b[43mos\u001b[49m\u001b[43m.\u001b[49m\u001b[43mgetenv\u001b[49m\u001b[43m(\u001b[49m\u001b[33;43m\"\u001b[39;49m\u001b[33;43mORACLE_JCLASSNAME\u001b[39;49m\u001b[33;43m\"\u001b[39;49m\u001b[43m)\u001b[49m\n\u001b[32m      5\u001b[39m \u001b[43m)\u001b[49m\n",
      "\u001b[36mFile \u001b[39m\u001b[32mc:\\Users\\Sireetron\\automated\\kbj_automation\\.venv\\Lib\\site-packages\\oracledb\\connection.py:1257\u001b[39m, in \u001b[36m_connection_factory.<locals>.connect\u001b[39m\u001b[34m(dsn, pool, pool_alias, conn_class, params, **kwargs)\u001b[39m\n\u001b[32m   1255\u001b[39m     message = \u001b[33m\"\u001b[39m\u001b[33mpool must be an instance of oracledb.ConnectionPool\u001b[39m\u001b[33m\"\u001b[39m\n\u001b[32m   1256\u001b[39m     \u001b[38;5;28;01mraise\u001b[39;00m \u001b[38;5;167;01mTypeError\u001b[39;00m(message)\n\u001b[32m-> \u001b[39m\u001b[32m1257\u001b[39m \u001b[38;5;28;01mreturn\u001b[39;00m \u001b[43mconn_class\u001b[49m\u001b[43m(\u001b[49m\u001b[43mdsn\u001b[49m\u001b[43m=\u001b[49m\u001b[43mdsn\u001b[49m\u001b[43m,\u001b[49m\u001b[43m \u001b[49m\u001b[43mpool\u001b[49m\u001b[43m=\u001b[49m\u001b[43mpool\u001b[49m\u001b[43m,\u001b[49m\u001b[43m \u001b[49m\u001b[43mparams\u001b[49m\u001b[43m=\u001b[49m\u001b[43mparams\u001b[49m\u001b[43m,\u001b[49m\u001b[43m \u001b[49m\u001b[43m*\u001b[49m\u001b[43m*\u001b[49m\u001b[43mkwargs\u001b[49m\u001b[43m)\u001b[49m\n",
      "\u001b[36mFile \u001b[39m\u001b[32mc:\\Users\\Sireetron\\automated\\kbj_automation\\.venv\\Lib\\site-packages\\oracledb\\connection.py:551\u001b[39m, in \u001b[36mConnection.__init__\u001b[39m\u001b[34m(self, dsn, pool, params, **kwargs)\u001b[39m\n\u001b[32m    549\u001b[39m \u001b[38;5;28;01melse\u001b[39;00m:\n\u001b[32m    550\u001b[39m     params_impl = params._impl.copy()\n\u001b[32m--> \u001b[39m\u001b[32m551\u001b[39m dsn = \u001b[43mparams_impl\u001b[49m\u001b[43m.\u001b[49m\u001b[43mprocess_args\u001b[49m\u001b[43m(\u001b[49m\u001b[43mdsn\u001b[49m\u001b[43m,\u001b[49m\u001b[43m \u001b[49m\u001b[43mkwargs\u001b[49m\u001b[43m,\u001b[49m\u001b[43m \u001b[49m\u001b[43mthin\u001b[49m\u001b[43m)\u001b[49m\n\u001b[32m    553\u001b[39m \u001b[38;5;66;03m# see if connection is being acquired from a pool\u001b[39;00m\n\u001b[32m    554\u001b[39m \u001b[38;5;28;01mif\u001b[39;00m pool \u001b[38;5;129;01mis\u001b[39;00m \u001b[38;5;28;01mNone\u001b[39;00m:\n",
      "\u001b[36mFile \u001b[39m\u001b[32msrc\\\\oracledb\\\\impl/base/connect_params.pyx:563\u001b[39m, in \u001b[36moracledb.base_impl.ConnectParamsImpl.process_args\u001b[39m\u001b[34m()\u001b[39m\n",
      "\u001b[36mFile \u001b[39m\u001b[32msrc\\\\oracledb\\\\impl/base/connect_params.pyx:498\u001b[39m, in \u001b[36moracledb.base_impl.ConnectParamsImpl.parse_connect_string\u001b[39m\u001b[34m()\u001b[39m\n",
      "\u001b[36mFile \u001b[39m\u001b[32msrc\\\\oracledb\\\\impl/base/connect_params.pyx:496\u001b[39m, in \u001b[36moracledb.base_impl.ConnectParamsImpl.parse_connect_string\u001b[39m\u001b[34m()\u001b[39m\n",
      "\u001b[36mFile \u001b[39m\u001b[32msrc\\\\oracledb\\\\impl/base/connect_params.pyx:325\u001b[39m, in \u001b[36moracledb.base_impl.ConnectParamsImpl._parse_connect_string\u001b[39m\u001b[34m()\u001b[39m\n",
      "\u001b[36mFile \u001b[39m\u001b[32msrc\\\\oracledb\\\\impl/base/connect_params.pyx:1206\u001b[39m, in \u001b[36moracledb.base_impl.TnsnamesFileReader.read_tnsnames\u001b[39m\u001b[34m()\u001b[39m\n",
      "\u001b[36mFile \u001b[39m\u001b[32mc:\\Users\\Sireetron\\automated\\kbj_automation\\.venv\\Lib\\site-packages\\oracledb\\errors.py:195\u001b[39m, in \u001b[36m_raise_err\u001b[39m\u001b[34m(error_num, context_error_message, cause, **args)\u001b[39m\n\u001b[32m    190\u001b[39m \u001b[38;5;250m\u001b[39m\u001b[33;03m\"\"\"\u001b[39;00m\n\u001b[32m    191\u001b[39m \u001b[33;03mRaises a driver specific exception from the specified error number and\u001b[39;00m\n\u001b[32m    192\u001b[39m \u001b[33;03msupplied arguments.\u001b[39;00m\n\u001b[32m    193\u001b[39m \u001b[33;03m\"\"\"\u001b[39;00m\n\u001b[32m    194\u001b[39m error = _create_err(error_num, context_error_message, cause, **args)\n\u001b[32m--> \u001b[39m\u001b[32m195\u001b[39m \u001b[38;5;28;01mraise\u001b[39;00m error.exc_type(error) \u001b[38;5;28;01mfrom\u001b[39;00m\u001b[38;5;250m \u001b[39m\u001b[34;01mcause\u001b[39;00m\n",
      "\u001b[31mDatabaseError\u001b[39m: DPY-4027: no configuration directory specified"
     ]
    }
   ],
   "source": [
    "connection = oracledb.connect(\n",
    "    user=os.getenv(\"ORACLE_USER\"),\n",
    "    password=os.getenv(\"ORACLE_PASSWORD\"),\n",
    "    dsn=os.getenv(\"ORACLE_JCLASSNAME\")\n",
    ")"
   ]
  },
  {
   "cell_type": "code",
   "execution_count": 2,
   "metadata": {},
   "outputs": [],
   "source": [
    "def clean_column_names(df):\n",
    "    df.columns = df.columns.str.lower()  \n",
    "    df.columns = df.columns.str.replace(r'\\.', '', regex=True)\n",
    "    df.columns = df.columns.str.replace(r' ', '_', regex=True)  \n",
    "    df.columns = df.columns.str.replace('customer_id_no|customer_no|customer_id|national_id', 'customer_no', regex=True) \n",
    "    df.columns = df.columns.str.replace(r'loan_no', 'contract_no', regex=True)\n",
    "    df.columns = df.columns.str.replace(r'mobile.*', 'mobile_no', regex=True)\n",
    "    df.columns = df.columns.str.replace(r'customer_name/surname\\(thai\\)', 'customer_name', regex=True)  \n",
    "    return df\n"
   ]
  },
  {
   "cell_type": "code",
   "execution_count": 3,
   "metadata": {},
   "outputs": [],
   "source": [
    "input_folder = \"../checker/input/assign_input/\""
   ]
  },
  {
   "cell_type": "code",
   "execution_count": 4,
   "metadata": {},
   "outputs": [
    {
     "name": "stdout",
     "output_type": "stream",
     "text": [
      "files ['../checker/input/assign_input\\\\Template_SMS_SF_X_DAY_Unsave_Collector_Covid_Base.xlsx']\n"
     ]
    }
   ],
   "source": [
    "files = glob.glob(os.path.join(input_folder, \"*.xlsx\")) + glob.glob(os.path.join(input_folder, \"*.csv\"))\n",
    "print('files',files)"
   ]
  },
  {
   "cell_type": "code",
   "execution_count": 5,
   "metadata": {},
   "outputs": [
    {
     "name": "stdout",
     "output_type": "stream",
     "text": [
      "assignassignassign       No          Loan No.  Customer ID No Customer Name/Surname(Thai)  \\\n",
      "0      1  7250270104814187   2320900048950                สุพิน บุญไทย   \n",
      "1      2  7240770103411425   1520100123761            กวินตา สุราฤทธิ์   \n",
      "2      3  7250170104669107   1319900790923                นราดร จีนกูล   \n",
      "3      4  7241070104062890   1549900139899             จอมขวัญ พละบุรี   \n",
      "4      5  7240870103435505   1469900500312         จักรพันธ์ ยุบลพันธ์   \n",
      "..   ...               ...             ...                         ...   \n",
      "315  316  7240270102091473   1100701547011              จริยา จันทวิลา   \n",
      "316  317  7240770103292127   1530300063192            ปิยธิดา ลิตตะสาร   \n",
      "317  318  7240770103301835   3849800093475                นิตยา ชูช่วง   \n",
      "318  319  7241070104009274   1101800510265              สิริพร ศรีสกุล   \n",
      "319  320  7241270104426728   3930500214413                 ฉลวย ศรีทอง   \n",
      "\n",
      "     Product code Overdue Cnt(Morning)  Mobile No.  Status  Result_TD  \\\n",
      "0    A701:SF Loan                X_Day   655897042  UNSAVE        NaN   \n",
      "1    A701:SF Loan                X_Day   930248653  UNSAVE        NaN   \n",
      "2    A701:SF Loan                X_Day   826046951  UNSAVE        NaN   \n",
      "3    A701:SF Loan                X_Day   630193806  UNSAVE        NaN   \n",
      "4    A701:SF Loan                X_Day   830765568  UNSAVE        NaN   \n",
      "..            ...                  ...         ...     ...        ...   \n",
      "315  A701:SF Loan                X_Day   808371796  UNSAVE        NaN   \n",
      "316  A701:SF Loan                X_Day   652408929  UNSAVE        NaN   \n",
      "317  A701:SF Loan                X_Day   946230968  UNSAVE        NaN   \n",
      "318  A701:SF Loan                X_Day   918047912  UNSAVE        NaN   \n",
      "319  A701:SF Loan                X_Day   817929856  UNSAVE        NaN   \n",
      "\n",
      "     Overdue Sum amt  TODAY  4 Digit  Len              Collector    sms_type  \n",
      "0                   2357.34     4187   10  Kunlada Thabthimthong  SF+ Unsave  \n",
      "1                   2654.54     1425   10  Kunlada Thabthimthong  SF+ Unsave  \n",
      "2                   1777.95     9107   10  Kunlada Thabthimthong  SF+ Unsave  \n",
      "3                   1936.23     2890   10  Kunlada Thabthimthong  SF+ Unsave  \n",
      "4                   2205.70     5505   10  Kunlada Thabthimthong  SF+ Unsave  \n",
      "..                      ...      ...  ...                    ...         ...  \n",
      "315                  841.70     1473   10  Kunlada Thabthimthong  SF+ Unsave  \n",
      "316                  736.18     2127   10  Kunlada Thabthimthong  SF+ Unsave  \n",
      "317                  736.18     1835   10  Kunlada Thabthimthong  SF+ Unsave  \n",
      "318                  460.08     9274   10  Kunlada Thabthimthong  SF+ Unsave  \n",
      "319                  368.05     6728   10  Kunlada Thabthimthong  SF+ Unsave  \n",
      "\n",
      "[320 rows x 14 columns]\n"
     ]
    }
   ],
   "source": [
    "if files:\n",
    "    file_path = files[0]\n",
    "    if file_path.endswith(\".xlsx\"):\n",
    "        assign = pd.read_excel(file_path,sheet_name='Data', dtype={'MobileNo': str})\n",
    "        print('assignassignassign',assign)\n",
    "    elif file_path.endswith(\".csv\"):\n",
    "        assign = pd.read_csv(file_path,sheet_name='Data', dtype={'MobileNo': str})   \n",
    "else:\n",
    "    print(\"No file found in the folder.\")"
   ]
  },
  {
   "cell_type": "code",
   "execution_count": 7,
   "metadata": {},
   "outputs": [],
   "source": [
    "conn = jaydebeapi.connect(\n",
    "        os.getenv(\"ORACLE_JCLASSNAME\"),\n",
    "         os.getenv(\"ORACLE_URL\"),\n",
    "         [os.getenv(\"ORACLE_USER\"), os.getenv(\"ORACLE_PASSWORD\")],\n",
    "         os.getenv(\"ORACLE_JARS\"),\n",
    "        )\n",
    "cur = conn.cursor() \t\n"
   ]
  },
  {
   "cell_type": "code",
   "execution_count": null,
   "metadata": {},
   "outputs": [],
   "source": []
  }
 ],
 "metadata": {
  "kernelspec": {
   "display_name": ".venv",
   "language": "python",
   "name": "python3"
  },
  "language_info": {
   "codemirror_mode": {
    "name": "ipython",
    "version": 3
   },
   "file_extension": ".py",
   "mimetype": "text/x-python",
   "name": "python",
   "nbconvert_exporter": "python",
   "pygments_lexer": "ipython3",
   "version": "3.11.9"
  }
 },
 "nbformat": 4,
 "nbformat_minor": 2
}
