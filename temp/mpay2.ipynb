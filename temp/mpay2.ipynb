{
 "cells": [
  {
   "cell_type": "code",
   "execution_count": 1,
   "metadata": {},
   "outputs": [],
   "source": [
    "import pandas as pd\n",
    "import glob\n"
   ]
  },
  {
   "cell_type": "code",
   "execution_count": 28,
   "metadata": {},
   "outputs": [],
   "source": [
    "def process_and_concat_sheets(file_path,monthname):\n",
    "    # Load the Excel file\n",
    "    all_data = []\n",
    "    try:\n",
    "        # Read the sheet\n",
    "        file = pd.read_excel(file_path, sheet_name='Report mpay (success)')\n",
    "        file.columns = file.iloc[0]\n",
    "        file = file.iloc[1:].reset_index(drop=True)\n",
    "        # print('file',file)\n",
    "        file['Loan No.'] = file['Ref no. 1']  # 11th column (index 10)\n",
    "        file['Payment'] = file['Product Amount (Baht)']  # 6th column (index 5)\n",
    "        file['Date'] = file['Payment Date/Time']      # 4th column (index 3)\n",
    "       \n",
    "\n",
    "        # Convert data types\n",
    "        file['Loan No.'] = file['Loan No.'].astype(str)\n",
    "        file['Date'] = file['Date'].astype(str)\n",
    "        # Add 'Type' column\n",
    "        file['Type'] = 'Mpay'\n",
    "        file['Month'] = monthname\n",
    "\n",
    "        # Keep only relevant columns\n",
    "        file = file[['Loan No.', 'Payment', 'Type', 'Date','Month']]\n",
    "        # Append to list\n",
    "        all_data.append(file)\n",
    "        # print(f'Successfully processed: {sheet_name}')\n",
    "\n",
    "    except Exception as e:\n",
    "        print(f\"Skipping sheet {file_path}  due to error: {e}\")\n",
    "    \n",
    "    # Concatenate all DataFrames if there are any valid ones\n",
    "    if all_data:\n",
    "        concatenated_data = pd.concat(all_data, ignore_index=True)\n",
    "    else:\n",
    "        concatenated_data = pd.DataFrame(columns=['Loan No.', 'Payment', 'Type', 'Date','Month'])\n",
    "\n",
    "    return concatenated_data\n"
   ]
  },
  {
   "cell_type": "code",
   "execution_count": 29,
   "metadata": {},
   "outputs": [
    {
     "name": "stdout",
     "output_type": "stream",
     "text": [
      "Processing file: ./file/M-pay-11-2024\\Report Mpay 01-11-2024.xlsx\n",
      "Skipping sheet ./file/M-pay-11-2024\\Report Mpay 01-11-2024.xlsx  due to error: 'Ref no. 1'\n",
      "Processing file: ./file/M-pay-11-2024\\Report Mpay 02-03-11-2024.xlsx\n",
      "Skipping sheet ./file/M-pay-11-2024\\Report Mpay 02-03-11-2024.xlsx  due to error: 'Ref no. 1'\n",
      "Processing file: ./file/M-pay-11-2024\\Report Mpay 03-04-11-2024.xlsx\n",
      "Skipping sheet ./file/M-pay-11-2024\\Report Mpay 03-04-11-2024.xlsx  due to error: 'Ref no. 1'\n",
      "Processing file: ./file/M-pay-11-2024\\Report Mpay 04-05-11-2024.xlsx\n",
      "Skipping sheet ./file/M-pay-11-2024\\Report Mpay 04-05-11-2024.xlsx  due to error: 'Ref no. 1'\n",
      "Processing file: ./file/M-pay-11-2024\\Report Mpay 04-06-11-2024.xlsx\n",
      "Skipping sheet ./file/M-pay-11-2024\\Report Mpay 04-06-11-2024.xlsx  due to error: 'Ref no. 1'\n",
      "Processing file: ./file/M-pay-11-2024\\Report Mpay 06-07-11-2024.xlsx\n",
      "Skipping sheet ./file/M-pay-11-2024\\Report Mpay 06-07-11-2024.xlsx  due to error: 'Ref no. 1'\n",
      "Processing file: ./file/M-pay-11-2024\\Report Mpay 07-08-11-2024.xlsx\n",
      "Skipping sheet ./file/M-pay-11-2024\\Report Mpay 07-08-11-2024.xlsx  due to error: 'Ref no. 1'\n",
      "Processing file: ./file/M-pay-11-2024\\Report Mpay 08-11-11-2024.xlsx\n",
      "Skipping sheet ./file/M-pay-11-2024\\Report Mpay 08-11-11-2024.xlsx  due to error: 'Ref no. 1'\n",
      "Processing file: ./file/M-pay-11-2024\\Report Mpay 11-12-11-2024.xlsx\n",
      "Skipping sheet ./file/M-pay-11-2024\\Report Mpay 11-12-11-2024.xlsx  due to error: 'Ref no. 1'\n",
      "Processing file: ./file/M-pay-11-2024\\Report Mpay 12-13-11-2024.xlsx\n",
      "Skipping sheet ./file/M-pay-11-2024\\Report Mpay 12-13-11-2024.xlsx  due to error: 'Ref no. 1'\n",
      "Processing file: ./file/M-pay-11-2024\\Report Mpay 13-14-11-2024.xlsx\n",
      "Skipping sheet ./file/M-pay-11-2024\\Report Mpay 13-14-11-2024.xlsx  due to error: 'Ref no. 1'\n",
      "Processing file: ./file/M-pay-11-2024\\Report Mpay 14-15-11-2024.xlsx\n",
      "Skipping sheet ./file/M-pay-11-2024\\Report Mpay 14-15-11-2024.xlsx  due to error: 'Ref no. 1'\n",
      "Processing file: ./file/M-pay-11-2024\\Report Mpay 15-18-11-2024.xlsx\n",
      "Skipping sheet ./file/M-pay-11-2024\\Report Mpay 15-18-11-2024.xlsx  due to error: 'Ref no. 1'\n",
      "Processing file: ./file/M-pay-11-2024\\Report Mpay 18-19-11-2024.xlsx\n",
      "Skipping sheet ./file/M-pay-11-2024\\Report Mpay 18-19-11-2024.xlsx  due to error: 'Ref no. 1'\n",
      "Processing file: ./file/M-pay-11-2024\\Report Mpay 19-20-11-2024.xlsx\n",
      "Skipping sheet ./file/M-pay-11-2024\\Report Mpay 19-20-11-2024.xlsx  due to error: 'Ref no. 1'\n",
      "Processing file: ./file/M-pay-11-2024\\Report Mpay 20-21-11-2024.xlsx\n",
      "Skipping sheet ./file/M-pay-11-2024\\Report Mpay 20-21-11-2024.xlsx  due to error: 'Ref no. 1'\n",
      "Processing file: ./file/M-pay-11-2024\\Report Mpay 21-22-11-2024.xlsx\n",
      "Skipping sheet ./file/M-pay-11-2024\\Report Mpay 21-22-11-2024.xlsx  due to error: 'Ref no. 1'\n",
      "Processing file: ./file/M-pay-11-2024\\Report Mpay 22-25-11-2024.xlsx\n",
      "Skipping sheet ./file/M-pay-11-2024\\Report Mpay 22-25-11-2024.xlsx  due to error: 'Ref no. 1'\n",
      "Processing file: ./file/M-pay-11-2024\\Report Mpay 25-26-11-2024.xlsx\n",
      "Skipping sheet ./file/M-pay-11-2024\\Report Mpay 25-26-11-2024.xlsx  due to error: 'Ref no. 1'\n",
      "Processing file: ./file/M-pay-11-2024\\Report Mpay 26-27-11-2024.xlsx\n",
      "Skipping sheet ./file/M-pay-11-2024\\Report Mpay 26-27-11-2024.xlsx  due to error: 'Ref no. 1'\n",
      "Processing file: ./file/M-pay-11-2024\\Report Mpay 27-28-11-2024.xlsx\n",
      "Skipping sheet ./file/M-pay-11-2024\\Report Mpay 27-28-11-2024.xlsx  due to error: 'Ref no. 1'\n",
      "Processing file: ./file/M-pay-11-2024\\Report Mpay 28-29-11-2024.xlsx\n",
      "Skipping sheet ./file/M-pay-11-2024\\Report Mpay 28-29-11-2024.xlsx  due to error: 'Ref no. 1'\n",
      "Processing file: ./file/M-pay-11-2024\\Report Mpay 29-30-11-2024.xlsx\n",
      "Skipping sheet ./file/M-pay-11-2024\\Report Mpay 29-30-11-2024.xlsx  due to error: 'Ref no. 1'\n",
      "Processing file: ./file/M-pay-11-2024\\Report Mpay 30-11-2024.xlsx\n",
      "Skipping sheet ./file/M-pay-11-2024\\Report Mpay 30-11-2024.xlsx  due to error: 'Ref no. 1'\n",
      "Empty DataFrame\n",
      "Columns: [Loan No., Payment, Type, Date, Month]\n",
      "Index: []\n"
     ]
    }
   ],
   "source": [
    "\n",
    "file_list =glob.glob(f\"./file/M-pay-11-2024/*\")\n",
    "# file_list = glob.glob(f\"./file/*\")\n",
    "\n",
    "\n",
    "# List to store concatenated data from each file\n",
    "all_files_data = []\n",
    "\n",
    "# Loop through each file and process it\n",
    "for file_path in file_list:\n",
    "    print(f\"Processing file: {file_path}\")\n",
    "    \n",
    "    # Process the sheets in each file and concatenate the results\n",
    "    file_data = process_and_concat_sheets(file_path,'Nov 24')\n",
    "    \n",
    "    # Append the data to the list\n",
    "    all_files_data.append(file_data)\n",
    "\n",
    "# Concatenate all file data into a single DataFrame\n",
    "final_data = pd.concat(all_files_data, ignore_index=True)\n",
    "final_data =final_data.dropna(subset=['Payment'])\n",
    "final_data = final_data.loc[final_data['Loan No.'] != 'nan']\n",
    "print(final_data)"
   ]
  },
  {
   "cell_type": "code",
   "execution_count": 30,
   "metadata": {},
   "outputs": [
    {
     "data": {
      "text/html": [
       "<div>\n",
       "<style scoped>\n",
       "    .dataframe tbody tr th:only-of-type {\n",
       "        vertical-align: middle;\n",
       "    }\n",
       "\n",
       "    .dataframe tbody tr th {\n",
       "        vertical-align: top;\n",
       "    }\n",
       "\n",
       "    .dataframe thead th {\n",
       "        text-align: right;\n",
       "    }\n",
       "</style>\n",
       "<table border=\"1\" class=\"dataframe\">\n",
       "  <thead>\n",
       "    <tr style=\"text-align: right;\">\n",
       "      <th></th>\n",
       "      <th>Loan No.</th>\n",
       "      <th>Payment</th>\n",
       "      <th>Type</th>\n",
       "      <th>Date</th>\n",
       "      <th>Month</th>\n",
       "    </tr>\n",
       "  </thead>\n",
       "  <tbody>\n",
       "  </tbody>\n",
       "</table>\n",
       "</div>"
      ],
      "text/plain": [
       "Empty DataFrame\n",
       "Columns: [Loan No., Payment, Type, Date, Month]\n",
       "Index: []"
      ]
     },
     "execution_count": 30,
     "metadata": {},
     "output_type": "execute_result"
    }
   ],
   "source": [
    "final_data"
   ]
  },
  {
   "cell_type": "code",
   "execution_count": 27,
   "metadata": {},
   "outputs": [],
   "source": [
    "final_data.to_excel('./output/mpay0924.xlsx')\n"
   ]
  },
  {
   "cell_type": "code",
   "execution_count": 9,
   "metadata": {},
   "outputs": [],
   "source": [
    "def split_and_save_data(data, output_file):\n",
    "    # Split data into chunks of 500,000 rows if needed\n",
    "    chunk_size = 500000\n",
    "    num_chunks = (len(data) // chunk_size) + (1 if len(data) % chunk_size > 0 else 0)\n",
    "    \n",
    "    with pd.ExcelWriter(output_file, engine='xlsxwriter') as writer:\n",
    "        # Write each chunk to a separate sheet\n",
    "        for chunk_num in range(num_chunks):\n",
    "            start_row = chunk_num * chunk_size\n",
    "            end_row = min((chunk_num + 1) * chunk_size, len(data))\n",
    "            chunk = data.iloc[start_row:end_row]\n",
    "            \n",
    "            # Save the chunk to a new sheet\n",
    "            chunk.to_excel(writer, sheet_name=f'Sheet_{chunk_num + 1}', index=False)\n",
    "            print(f\"Saved Sheet_{chunk_num + 1} with rows {start_row} to {end_row}\")"
   ]
  },
  {
   "cell_type": "code",
   "execution_count": 21,
   "metadata": {},
   "outputs": [
    {
     "name": "stdout",
     "output_type": "stream",
     "text": [
      "Total rows 1297134 exceed 500,000. Splitting into multiple sheets.\n",
      "Saved Sheet_1 with rows 0 to 500000\n",
      "Saved Sheet_2 with rows 500000 to 1000000\n",
      "Saved Sheet_3 with rows 1000000 to 1297134\n"
     ]
    }
   ],
   "source": [
    "output_file = './output/0225.xlsx'\n",
    "if len(final_data) > 500000:\n",
    "        print(f\"Total rows {len(final_data)} exceed 500,000. Splitting into multiple sheets.\")\n",
    "        split_and_save_data(final_data, output_file)\n",
    "else:\n",
    "    # If it's less than 500,000 rows, save it as one sheet\n",
    "    final_data.to_excel(output_file, index=False, sheet_name='Sheet_1')\n",
    "    print(f\"Saved all data to {output_file}.\")"
   ]
  },
  {
   "cell_type": "code",
   "execution_count": null,
   "metadata": {},
   "outputs": [],
   "source": []
  }
 ],
 "metadata": {
  "kernelspec": {
   "display_name": ".venv",
   "language": "python",
   "name": "python3"
  },
  "language_info": {
   "codemirror_mode": {
    "name": "ipython",
    "version": 3
   },
   "file_extension": ".py",
   "mimetype": "text/x-python",
   "name": "python",
   "nbconvert_exporter": "python",
   "pygments_lexer": "ipython3",
   "version": "3.11.9"
  }
 },
 "nbformat": 4,
 "nbformat_minor": 2
}
